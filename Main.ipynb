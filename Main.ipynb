{
 "cells": [
  {
   "cell_type": "code",
   "execution_count": 6,
   "metadata": {},
   "outputs": [
    {
     "name": "stdout",
     "output_type": "stream",
     "text": [
      "Note: you may need to restart the kernel to use updated packages.\n"
     ]
    },
    {
     "name": "stderr",
     "output_type": "stream",
     "text": [
      "WARNING: You are using pip version 21.2.4; however, version 22.1.1 is available.\n",
      "You should consider upgrading via the 'c:\\Users\\HIMANGSHUB\\AppData\\Local\\Programs\\Python\\Python39\\python.exe -m pip install --upgrade pip' command.\n"
     ]
    }
   ],
   "source": [
    "pip install pandas --quiet"
   ]
  },
  {
   "cell_type": "code",
   "execution_count": 7,
   "metadata": {},
   "outputs": [],
   "source": [
    "import pandas as pd\n",
    "import numpy as np"
   ]
  },
  {
   "cell_type": "markdown",
   "metadata": {},
   "source": [
    "Reading the DataSet "
   ]
  },
  {
   "cell_type": "code",
   "execution_count": 8,
   "metadata": {},
   "outputs": [
    {
     "data": {
      "text/html": [
       "<div>\n",
       "<style scoped>\n",
       "    .dataframe tbody tr th:only-of-type {\n",
       "        vertical-align: middle;\n",
       "    }\n",
       "\n",
       "    .dataframe tbody tr th {\n",
       "        vertical-align: top;\n",
       "    }\n",
       "\n",
       "    .dataframe thead th {\n",
       "        text-align: right;\n",
       "    }\n",
       "</style>\n",
       "<table border=\"1\" class=\"dataframe\">\n",
       "  <thead>\n",
       "    <tr style=\"text-align: right;\">\n",
       "      <th></th>\n",
       "      <th>Date</th>\n",
       "      <th>Open</th>\n",
       "      <th>High</th>\n",
       "      <th>Low</th>\n",
       "      <th>Close</th>\n",
       "      <th>Adj Close</th>\n",
       "      <th>Volume</th>\n",
       "    </tr>\n",
       "  </thead>\n",
       "  <tbody>\n",
       "    <tr>\n",
       "      <th>0</th>\n",
       "      <td>2017-02-02</td>\n",
       "      <td>989.450012</td>\n",
       "      <td>995.000000</td>\n",
       "      <td>981.950012</td>\n",
       "      <td>989.000000</td>\n",
       "      <td>958.942017</td>\n",
       "      <td>1365514</td>\n",
       "    </tr>\n",
       "    <tr>\n",
       "      <th>1</th>\n",
       "      <td>2017-02-03</td>\n",
       "      <td>990.000000</td>\n",
       "      <td>993.900024</td>\n",
       "      <td>981.049988</td>\n",
       "      <td>985.900024</td>\n",
       "      <td>955.936096</td>\n",
       "      <td>465754</td>\n",
       "    </tr>\n",
       "    <tr>\n",
       "      <th>2</th>\n",
       "      <td>2017-02-06</td>\n",
       "      <td>990.099976</td>\n",
       "      <td>1004.950012</td>\n",
       "      <td>985.500000</td>\n",
       "      <td>992.500000</td>\n",
       "      <td>962.335571</td>\n",
       "      <td>744278</td>\n",
       "    </tr>\n",
       "    <tr>\n",
       "      <th>3</th>\n",
       "      <td>2017-02-07</td>\n",
       "      <td>992.000000</td>\n",
       "      <td>1003.950012</td>\n",
       "      <td>990.200012</td>\n",
       "      <td>999.299988</td>\n",
       "      <td>968.928833</td>\n",
       "      <td>577723</td>\n",
       "    </tr>\n",
       "    <tr>\n",
       "      <th>4</th>\n",
       "      <td>2017-02-08</td>\n",
       "      <td>999.299988</td>\n",
       "      <td>1009.900024</td>\n",
       "      <td>981.000000</td>\n",
       "      <td>997.700012</td>\n",
       "      <td>967.377563</td>\n",
       "      <td>1192386</td>\n",
       "    </tr>\n",
       "    <tr>\n",
       "      <th>...</th>\n",
       "      <td>...</td>\n",
       "      <td>...</td>\n",
       "      <td>...</td>\n",
       "      <td>...</td>\n",
       "      <td>...</td>\n",
       "      <td>...</td>\n",
       "      <td>...</td>\n",
       "    </tr>\n",
       "    <tr>\n",
       "      <th>1230</th>\n",
       "      <td>2022-01-25</td>\n",
       "      <td>3100.000000</td>\n",
       "      <td>3156.949951</td>\n",
       "      <td>3010.750000</td>\n",
       "      <td>3147.100098</td>\n",
       "      <td>3147.100098</td>\n",
       "      <td>2699779</td>\n",
       "    </tr>\n",
       "    <tr>\n",
       "      <th>1231</th>\n",
       "      <td>2022-01-27</td>\n",
       "      <td>3140.100098</td>\n",
       "      <td>3143.000000</td>\n",
       "      <td>3071.250000</td>\n",
       "      <td>3116.949951</td>\n",
       "      <td>3116.949951</td>\n",
       "      <td>1834684</td>\n",
       "    </tr>\n",
       "    <tr>\n",
       "      <th>1232</th>\n",
       "      <td>2022-01-28</td>\n",
       "      <td>3130.000000</td>\n",
       "      <td>3170.000000</td>\n",
       "      <td>3103.000000</td>\n",
       "      <td>3110.850098</td>\n",
       "      <td>3110.850098</td>\n",
       "      <td>892060</td>\n",
       "    </tr>\n",
       "    <tr>\n",
       "      <th>1233</th>\n",
       "      <td>2022-01-31</td>\n",
       "      <td>3140.000000</td>\n",
       "      <td>3193.449951</td>\n",
       "      <td>3136.399902</td>\n",
       "      <td>3152.250000</td>\n",
       "      <td>3152.250000</td>\n",
       "      <td>944530</td>\n",
       "    </tr>\n",
       "    <tr>\n",
       "      <th>1234</th>\n",
       "      <td>2022-02-01</td>\n",
       "      <td>3194.000000</td>\n",
       "      <td>3212.350098</td>\n",
       "      <td>3141.600098</td>\n",
       "      <td>3196.250000</td>\n",
       "      <td>3196.250000</td>\n",
       "      <td>1008915</td>\n",
       "    </tr>\n",
       "  </tbody>\n",
       "</table>\n",
       "<p>1235 rows × 7 columns</p>\n",
       "</div>"
      ],
      "text/plain": [
       "            Date         Open         High          Low        Close  \\\n",
       "0     2017-02-02   989.450012   995.000000   981.950012   989.000000   \n",
       "1     2017-02-03   990.000000   993.900024   981.049988   985.900024   \n",
       "2     2017-02-06   990.099976  1004.950012   985.500000   992.500000   \n",
       "3     2017-02-07   992.000000  1003.950012   990.200012   999.299988   \n",
       "4     2017-02-08   999.299988  1009.900024   981.000000   997.700012   \n",
       "...          ...          ...          ...          ...          ...   \n",
       "1230  2022-01-25  3100.000000  3156.949951  3010.750000  3147.100098   \n",
       "1231  2022-01-27  3140.100098  3143.000000  3071.250000  3116.949951   \n",
       "1232  2022-01-28  3130.000000  3170.000000  3103.000000  3110.850098   \n",
       "1233  2022-01-31  3140.000000  3193.449951  3136.399902  3152.250000   \n",
       "1234  2022-02-01  3194.000000  3212.350098  3141.600098  3196.250000   \n",
       "\n",
       "        Adj Close   Volume  \n",
       "0      958.942017  1365514  \n",
       "1      955.936096   465754  \n",
       "2      962.335571   744278  \n",
       "3      968.928833   577723  \n",
       "4      967.377563  1192386  \n",
       "...           ...      ...  \n",
       "1230  3147.100098  2699779  \n",
       "1231  3116.949951  1834684  \n",
       "1232  3110.850098   892060  \n",
       "1233  3152.250000   944530  \n",
       "1234  3196.250000  1008915  \n",
       "\n",
       "[1235 rows x 7 columns]"
      ]
     },
     "execution_count": 8,
     "metadata": {},
     "output_type": "execute_result"
    }
   ],
   "source": [
    "data_df = pd.read_csv('ASIANPAINT.csv')\n",
    "data_df"
   ]
  },
  {
   "cell_type": "code",
   "execution_count": 9,
   "metadata": {},
   "outputs": [
    {
     "data": {
      "text/html": [
       "<div>\n",
       "<style scoped>\n",
       "    .dataframe tbody tr th:only-of-type {\n",
       "        vertical-align: middle;\n",
       "    }\n",
       "\n",
       "    .dataframe tbody tr th {\n",
       "        vertical-align: top;\n",
       "    }\n",
       "\n",
       "    .dataframe thead th {\n",
       "        text-align: right;\n",
       "    }\n",
       "</style>\n",
       "<table border=\"1\" class=\"dataframe\">\n",
       "  <thead>\n",
       "    <tr style=\"text-align: right;\">\n",
       "      <th></th>\n",
       "      <th>Date</th>\n",
       "      <th>Open</th>\n",
       "      <th>High</th>\n",
       "      <th>Low</th>\n",
       "      <th>Close</th>\n",
       "      <th>Adj Close</th>\n",
       "      <th>Volume</th>\n",
       "    </tr>\n",
       "  </thead>\n",
       "  <tbody>\n",
       "    <tr>\n",
       "      <th>0</th>\n",
       "      <td>2017-02-02</td>\n",
       "      <td>989.450012</td>\n",
       "      <td>995.000000</td>\n",
       "      <td>981.950012</td>\n",
       "      <td>989.000000</td>\n",
       "      <td>958.942017</td>\n",
       "      <td>1365514</td>\n",
       "    </tr>\n",
       "    <tr>\n",
       "      <th>1</th>\n",
       "      <td>2017-02-03</td>\n",
       "      <td>990.000000</td>\n",
       "      <td>993.900024</td>\n",
       "      <td>981.049988</td>\n",
       "      <td>985.900024</td>\n",
       "      <td>955.936096</td>\n",
       "      <td>465754</td>\n",
       "    </tr>\n",
       "    <tr>\n",
       "      <th>2</th>\n",
       "      <td>2017-02-06</td>\n",
       "      <td>990.099976</td>\n",
       "      <td>1004.950012</td>\n",
       "      <td>985.500000</td>\n",
       "      <td>992.500000</td>\n",
       "      <td>962.335571</td>\n",
       "      <td>744278</td>\n",
       "    </tr>\n",
       "    <tr>\n",
       "      <th>3</th>\n",
       "      <td>2017-02-07</td>\n",
       "      <td>992.000000</td>\n",
       "      <td>1003.950012</td>\n",
       "      <td>990.200012</td>\n",
       "      <td>999.299988</td>\n",
       "      <td>968.928833</td>\n",
       "      <td>577723</td>\n",
       "    </tr>\n",
       "    <tr>\n",
       "      <th>4</th>\n",
       "      <td>2017-02-08</td>\n",
       "      <td>999.299988</td>\n",
       "      <td>1009.900024</td>\n",
       "      <td>981.000000</td>\n",
       "      <td>997.700012</td>\n",
       "      <td>967.377563</td>\n",
       "      <td>1192386</td>\n",
       "    </tr>\n",
       "  </tbody>\n",
       "</table>\n",
       "</div>"
      ],
      "text/plain": [
       "         Date        Open         High         Low       Close   Adj Close  \\\n",
       "0  2017-02-02  989.450012   995.000000  981.950012  989.000000  958.942017   \n",
       "1  2017-02-03  990.000000   993.900024  981.049988  985.900024  955.936096   \n",
       "2  2017-02-06  990.099976  1004.950012  985.500000  992.500000  962.335571   \n",
       "3  2017-02-07  992.000000  1003.950012  990.200012  999.299988  968.928833   \n",
       "4  2017-02-08  999.299988  1009.900024  981.000000  997.700012  967.377563   \n",
       "\n",
       "    Volume  \n",
       "0  1365514  \n",
       "1   465754  \n",
       "2   744278  \n",
       "3   577723  \n",
       "4  1192386  "
      ]
     },
     "execution_count": 9,
     "metadata": {},
     "output_type": "execute_result"
    }
   ],
   "source": [
    "data_df.head()"
   ]
  },
  {
   "cell_type": "code",
   "execution_count": 10,
   "metadata": {},
   "outputs": [
    {
     "data": {
      "text/html": [
       "<div>\n",
       "<style scoped>\n",
       "    .dataframe tbody tr th:only-of-type {\n",
       "        vertical-align: middle;\n",
       "    }\n",
       "\n",
       "    .dataframe tbody tr th {\n",
       "        vertical-align: top;\n",
       "    }\n",
       "\n",
       "    .dataframe thead th {\n",
       "        text-align: right;\n",
       "    }\n",
       "</style>\n",
       "<table border=\"1\" class=\"dataframe\">\n",
       "  <thead>\n",
       "    <tr style=\"text-align: right;\">\n",
       "      <th></th>\n",
       "      <th>Open</th>\n",
       "      <th>High</th>\n",
       "      <th>Low</th>\n",
       "      <th>Close</th>\n",
       "      <th>Adj Close</th>\n",
       "      <th>Volume</th>\n",
       "    </tr>\n",
       "  </thead>\n",
       "  <tbody>\n",
       "    <tr>\n",
       "      <th>count</th>\n",
       "      <td>1235.000000</td>\n",
       "      <td>1235.000000</td>\n",
       "      <td>1235.000000</td>\n",
       "      <td>1235.000000</td>\n",
       "      <td>1235.000000</td>\n",
       "      <td>1.235000e+03</td>\n",
       "    </tr>\n",
       "    <tr>\n",
       "      <th>mean</th>\n",
       "      <td>1784.580607</td>\n",
       "      <td>1804.636760</td>\n",
       "      <td>1763.160690</td>\n",
       "      <td>1783.614210</td>\n",
       "      <td>1762.049029</td>\n",
       "      <td>1.448089e+06</td>\n",
       "    </tr>\n",
       "    <tr>\n",
       "      <th>std</th>\n",
       "      <td>699.204529</td>\n",
       "      <td>706.664895</td>\n",
       "      <td>690.499606</td>\n",
       "      <td>698.234663</td>\n",
       "      <td>707.391939</td>\n",
       "      <td>1.112168e+06</td>\n",
       "    </tr>\n",
       "    <tr>\n",
       "      <th>min</th>\n",
       "      <td>961.000000</td>\n",
       "      <td>973.400024</td>\n",
       "      <td>953.849976</td>\n",
       "      <td>960.799988</td>\n",
       "      <td>931.598938</td>\n",
       "      <td>7.026400e+04</td>\n",
       "    </tr>\n",
       "    <tr>\n",
       "      <th>25%</th>\n",
       "      <td>1213.950012</td>\n",
       "      <td>1231.325012</td>\n",
       "      <td>1196.200012</td>\n",
       "      <td>1215.575012</td>\n",
       "      <td>1183.003357</td>\n",
       "      <td>7.508415e+05</td>\n",
       "    </tr>\n",
       "    <tr>\n",
       "      <th>50%</th>\n",
       "      <td>1514.000000</td>\n",
       "      <td>1531.449951</td>\n",
       "      <td>1495.150024</td>\n",
       "      <td>1519.300049</td>\n",
       "      <td>1491.635620</td>\n",
       "      <td>1.137313e+06</td>\n",
       "    </tr>\n",
       "    <tr>\n",
       "      <th>75%</th>\n",
       "      <td>2166.675049</td>\n",
       "      <td>2199.349976</td>\n",
       "      <td>2153.074951</td>\n",
       "      <td>2168.000000</td>\n",
       "      <td>2154.776001</td>\n",
       "      <td>1.766695e+06</td>\n",
       "    </tr>\n",
       "    <tr>\n",
       "      <th>max</th>\n",
       "      <td>3580.000000</td>\n",
       "      <td>3590.000000</td>\n",
       "      <td>3534.000000</td>\n",
       "      <td>3576.300049</td>\n",
       "      <td>3576.300049</td>\n",
       "      <td>1.154592e+07</td>\n",
       "    </tr>\n",
       "  </tbody>\n",
       "</table>\n",
       "</div>"
      ],
      "text/plain": [
       "              Open         High          Low        Close    Adj Close  \\\n",
       "count  1235.000000  1235.000000  1235.000000  1235.000000  1235.000000   \n",
       "mean   1784.580607  1804.636760  1763.160690  1783.614210  1762.049029   \n",
       "std     699.204529   706.664895   690.499606   698.234663   707.391939   \n",
       "min     961.000000   973.400024   953.849976   960.799988   931.598938   \n",
       "25%    1213.950012  1231.325012  1196.200012  1215.575012  1183.003357   \n",
       "50%    1514.000000  1531.449951  1495.150024  1519.300049  1491.635620   \n",
       "75%    2166.675049  2199.349976  2153.074951  2168.000000  2154.776001   \n",
       "max    3580.000000  3590.000000  3534.000000  3576.300049  3576.300049   \n",
       "\n",
       "             Volume  \n",
       "count  1.235000e+03  \n",
       "mean   1.448089e+06  \n",
       "std    1.112168e+06  \n",
       "min    7.026400e+04  \n",
       "25%    7.508415e+05  \n",
       "50%    1.137313e+06  \n",
       "75%    1.766695e+06  \n",
       "max    1.154592e+07  "
      ]
     },
     "execution_count": 10,
     "metadata": {},
     "output_type": "execute_result"
    }
   ],
   "source": [
    "data_df.describe()"
   ]
  },
  {
   "cell_type": "code",
   "execution_count": 11,
   "metadata": {},
   "outputs": [
    {
     "name": "stdout",
     "output_type": "stream",
     "text": [
      "<class 'pandas.core.frame.DataFrame'>\n",
      "RangeIndex: 1235 entries, 0 to 1234\n",
      "Data columns (total 7 columns):\n",
      " #   Column     Non-Null Count  Dtype  \n",
      "---  ------     --------------  -----  \n",
      " 0   Date       1235 non-null   object \n",
      " 1   Open       1235 non-null   float64\n",
      " 2   High       1235 non-null   float64\n",
      " 3   Low        1235 non-null   float64\n",
      " 4   Close      1235 non-null   float64\n",
      " 5   Adj Close  1235 non-null   float64\n",
      " 6   Volume     1235 non-null   int64  \n",
      "dtypes: float64(5), int64(1), object(1)\n",
      "memory usage: 67.7+ KB\n"
     ]
    }
   ],
   "source": [
    "data_df.info()"
   ]
  },
  {
   "cell_type": "code",
   "execution_count": 12,
   "metadata": {},
   "outputs": [
    {
     "data": {
      "text/plain": [
       "Index(['Date', 'Open', 'High', 'Low', 'Close', 'Adj Close', 'Volume'], dtype='object')"
      ]
     },
     "execution_count": 12,
     "metadata": {},
     "output_type": "execute_result"
    }
   ],
   "source": [
    "data_df.columns"
   ]
  },
  {
   "cell_type": "code",
   "execution_count": 13,
   "metadata": {},
   "outputs": [
    {
     "data": {
      "text/plain": [
       "Date         1235\n",
       "Open         1235\n",
       "High         1235\n",
       "Low          1235\n",
       "Close        1235\n",
       "Adj Close    1235\n",
       "Volume       1235\n",
       "dtype: int64"
      ]
     },
     "execution_count": 13,
     "metadata": {},
     "output_type": "execute_result"
    }
   ],
   "source": [
    "data_df.count()"
   ]
  },
  {
   "cell_type": "code",
   "execution_count": null,
   "metadata": {},
   "outputs": [],
   "source": []
  },
  {
   "cell_type": "code",
   "execution_count": 14,
   "metadata": {},
   "outputs": [
    {
     "data": {
      "text/plain": [
       "Date         0\n",
       "Open         0\n",
       "High         0\n",
       "Low          0\n",
       "Close        0\n",
       "Adj Close    0\n",
       "Volume       0\n",
       "dtype: int64"
      ]
     },
     "execution_count": 14,
     "metadata": {},
     "output_type": "execute_result"
    }
   ],
   "source": [
    "data_df.isnull().sum()"
   ]
  },
  {
   "cell_type": "code",
   "execution_count": 16,
   "metadata": {},
   "outputs": [
    {
     "data": {
      "text/plain": [
       "0        989.450012\n",
       "1        990.000000\n",
       "2        990.099976\n",
       "3        992.000000\n",
       "4        999.299988\n",
       "           ...     \n",
       "1230    3100.000000\n",
       "1231    3140.100098\n",
       "1232    3130.000000\n",
       "1233    3140.000000\n",
       "1234    3194.000000\n",
       "Name: Open, Length: 1235, dtype: float64"
      ]
     },
     "execution_count": 16,
     "metadata": {},
     "output_type": "execute_result"
    }
   ],
   "source": [
    "data_open = data_df['Open']\n",
    "data_open"
   ]
  },
  {
   "cell_type": "code",
   "execution_count": 20,
   "metadata": {},
   "outputs": [
    {
     "data": {
      "text/plain": [
       "(1235, 1)"
      ]
     },
     "execution_count": 20,
     "metadata": {},
     "output_type": "execute_result"
    }
   ],
   "source": [
    "from sklearn.preprocessing import MinMaxScaler\n",
    "scaler = MinMaxScaler();\n",
    "data_input = scaler.fit_transform(np.array(data_open).reshape(-1,1))\n",
    "data_input.shape"
   ]
  },
  {
   "cell_type": "code",
   "execution_count": 38,
   "metadata": {},
   "outputs": [
    {
     "name": "stdout",
     "output_type": "stream",
     "text": [
      "433\n"
     ]
    }
   ],
   "source": [
    "# splitting dataset \n",
    "\n",
    "training_size = int(len(data_input)*0.65) # no. of instance of training set\n",
    "test_size = len(data_input) - training_size # no. of instances of test set\n",
    "print(test_size)\n",
    "train_data , test_data = data_input[0:training_size ,:] , data_input[training_size:len(data_input),:]\n"
   ]
  },
  {
   "cell_type": "code",
   "execution_count": 36,
   "metadata": {},
   "outputs": [
    {
     "data": {
      "text/plain": [
       "((802, 1), (433, 1))"
      ]
     },
     "execution_count": 36,
     "metadata": {},
     "output_type": "execute_result"
    }
   ],
   "source": [
    "train_data.shape , test_data.shape"
   ]
  },
  {
   "cell_type": "code",
   "execution_count": 39,
   "metadata": {},
   "outputs": [],
   "source": [
    "def create_dataset(dataset , time_step=1):\n",
    "    dataX , dataY = [] ,[]\n",
    "    for i in range (len(dataset)-time_step -1):\n",
    "        a = dataset[i:(i+time_step),0]\n",
    "        dataX.append(a)\n",
    "        dataY.append(dataset[i+time_step,0])\n",
    "    return np.array(dataX),np.array(dataY)"
   ]
  },
  {
   "cell_type": "code",
   "execution_count": 40,
   "metadata": {},
   "outputs": [],
   "source": [
    "time_step = 60\n",
    "X_train , y_train = create_dataset(train_data,time_step)\n",
    "X_test,y_test = create_dataset(test_data,time_step)"
   ]
  },
  {
   "cell_type": "code",
   "execution_count": 42,
   "metadata": {},
   "outputs": [
    {
     "data": {
      "text/plain": [
       "(741, 60)"
      ]
     },
     "execution_count": 42,
     "metadata": {},
     "output_type": "execute_result"
    }
   ],
   "source": [
    "X_train.shape"
   ]
  },
  {
   "cell_type": "code",
   "execution_count": 55,
   "metadata": {},
   "outputs": [],
   "source": [
    "X_train = X_train.reshape(X_train.shape[0],X_train.shape[1],1)\n",
    "X_test = X_test.reshape(X_test.shape[0],X_test.shape[1],1)\n"
   ]
  },
  {
   "cell_type": "code",
   "execution_count": 56,
   "metadata": {},
   "outputs": [],
   "source": [
    "from tensorflow.keras.models import Sequential \n",
    "from tensorflow.keras.layers import Dense\n",
    "from tensorflow.keras.layers import LSTM"
   ]
  },
  {
   "cell_type": "code",
   "execution_count": 62,
   "metadata": {},
   "outputs": [],
   "source": [
    "model = Sequential();\n",
    "model.add(LSTM(50,return_sequences=True,input_shape=(60,1)))\n",
    "model.add(LSTM(50,return_sequences=True))\n",
    "model.add(LSTM(50))\n",
    "model.add(Dense(1))\n",
    "model.compile(loss=\"mean_squared_error\" , optimizer='adam')"
   ]
  },
  {
   "cell_type": "code",
   "execution_count": 63,
   "metadata": {},
   "outputs": [
    {
     "name": "stdout",
     "output_type": "stream",
     "text": [
      "Model: \"sequential_2\"\n",
      "_________________________________________________________________\n",
      " Layer (type)                Output Shape              Param #   \n",
      "=================================================================\n",
      " lstm_6 (LSTM)               (None, 60, 50)            10400     \n",
      "                                                                 \n",
      " lstm_7 (LSTM)               (None, 60, 50)            20200     \n",
      "                                                                 \n",
      " lstm_8 (LSTM)               (None, 50)                20200     \n",
      "                                                                 \n",
      " dense_2 (Dense)             (None, 1)                 51        \n",
      "                                                                 \n",
      "=================================================================\n",
      "Total params: 50,851\n",
      "Trainable params: 50,851\n",
      "Non-trainable params: 0\n",
      "_________________________________________________________________\n"
     ]
    }
   ],
   "source": [
    "model.summary()"
   ]
  },
  {
   "cell_type": "code",
   "execution_count": 64,
   "metadata": {},
   "outputs": [
    {
     "name": "stdout",
     "output_type": "stream",
     "text": [
      "Epoch 1/100\n",
      "24/24 [==============================] - 11s 135ms/step - loss: 0.0049 - val_loss: 0.0104\n",
      "Epoch 2/100\n",
      "24/24 [==============================] - 2s 80ms/step - loss: 7.6609e-04 - val_loss: 0.0022\n",
      "Epoch 3/100\n",
      "24/24 [==============================] - 2s 76ms/step - loss: 5.6134e-04 - val_loss: 0.0041\n",
      "Epoch 4/100\n",
      "24/24 [==============================] - 2s 77ms/step - loss: 5.9389e-04 - val_loss: 0.0039\n",
      "Epoch 5/100\n",
      "24/24 [==============================] - 2s 76ms/step - loss: 5.2759e-04 - val_loss: 0.0037\n",
      "Epoch 6/100\n",
      "24/24 [==============================] - 2s 76ms/step - loss: 4.9100e-04 - val_loss: 0.0029\n",
      "Epoch 7/100\n",
      "24/24 [==============================] - 2s 77ms/step - loss: 4.9006e-04 - val_loss: 0.0033\n",
      "Epoch 8/100\n",
      "24/24 [==============================] - 2s 78ms/step - loss: 4.5927e-04 - val_loss: 0.0056\n",
      "Epoch 9/100\n",
      "24/24 [==============================] - 2s 77ms/step - loss: 4.3892e-04 - val_loss: 0.0040\n",
      "Epoch 10/100\n",
      "24/24 [==============================] - 2s 77ms/step - loss: 4.4057e-04 - val_loss: 0.0030\n",
      "Epoch 11/100\n",
      "24/24 [==============================] - 2s 79ms/step - loss: 4.3004e-04 - val_loss: 0.0051\n",
      "Epoch 12/100\n",
      "24/24 [==============================] - 2s 78ms/step - loss: 4.0165e-04 - val_loss: 0.0060\n",
      "Epoch 13/100\n",
      "24/24 [==============================] - 2s 78ms/step - loss: 4.3092e-04 - val_loss: 0.0076\n",
      "Epoch 14/100\n",
      "24/24 [==============================] - 2s 82ms/step - loss: 3.7410e-04 - val_loss: 0.0143\n",
      "Epoch 15/100\n",
      "24/24 [==============================] - 2s 80ms/step - loss: 4.0451e-04 - val_loss: 0.0124\n",
      "Epoch 16/100\n",
      "24/24 [==============================] - 2s 77ms/step - loss: 3.5797e-04 - val_loss: 0.0058\n",
      "Epoch 17/100\n",
      "24/24 [==============================] - 2s 78ms/step - loss: 3.2312e-04 - val_loss: 0.0042\n",
      "Epoch 18/100\n",
      "24/24 [==============================] - 2s 78ms/step - loss: 4.2026e-04 - val_loss: 0.0079\n",
      "Epoch 19/100\n",
      "24/24 [==============================] - 2s 79ms/step - loss: 3.0600e-04 - val_loss: 0.0040\n",
      "Epoch 20/100\n",
      "24/24 [==============================] - 2s 77ms/step - loss: 3.0030e-04 - val_loss: 0.0038\n",
      "Epoch 21/100\n",
      "24/24 [==============================] - 2s 79ms/step - loss: 3.2747e-04 - val_loss: 0.0098\n",
      "Epoch 22/100\n",
      "24/24 [==============================] - 2s 77ms/step - loss: 2.8900e-04 - val_loss: 0.0064\n",
      "Epoch 23/100\n",
      "24/24 [==============================] - 2s 77ms/step - loss: 2.7600e-04 - val_loss: 0.0089\n",
      "Epoch 24/100\n",
      "24/24 [==============================] - 2s 77ms/step - loss: 2.5741e-04 - val_loss: 0.0098\n",
      "Epoch 25/100\n",
      "24/24 [==============================] - 2s 79ms/step - loss: 2.6276e-04 - val_loss: 0.0044\n",
      "Epoch 26/100\n",
      "24/24 [==============================] - 2s 77ms/step - loss: 2.9891e-04 - val_loss: 0.0105\n",
      "Epoch 27/100\n",
      "24/24 [==============================] - 2s 78ms/step - loss: 3.0030e-04 - val_loss: 0.0070\n",
      "Epoch 28/100\n",
      "24/24 [==============================] - 2s 76ms/step - loss: 3.1388e-04 - val_loss: 0.0039\n",
      "Epoch 29/100\n",
      "24/24 [==============================] - 2s 77ms/step - loss: 2.2828e-04 - val_loss: 0.0030\n",
      "Epoch 30/100\n",
      "24/24 [==============================] - 2s 81ms/step - loss: 2.3930e-04 - val_loss: 0.0028\n",
      "Epoch 31/100\n",
      "24/24 [==============================] - 2s 77ms/step - loss: 2.2873e-04 - val_loss: 0.0040\n",
      "Epoch 32/100\n",
      "24/24 [==============================] - 2s 77ms/step - loss: 2.1277e-04 - val_loss: 0.0052\n",
      "Epoch 33/100\n",
      "24/24 [==============================] - 2s 77ms/step - loss: 2.0765e-04 - val_loss: 0.0073\n",
      "Epoch 34/100\n",
      "24/24 [==============================] - 2s 79ms/step - loss: 2.0665e-04 - val_loss: 9.7894e-04\n",
      "Epoch 35/100\n",
      "24/24 [==============================] - 2s 76ms/step - loss: 3.2509e-04 - val_loss: 0.0057\n",
      "Epoch 36/100\n",
      "24/24 [==============================] - 2s 76ms/step - loss: 1.8884e-04 - val_loss: 0.0054\n",
      "Epoch 37/100\n",
      "24/24 [==============================] - 2s 76ms/step - loss: 1.7676e-04 - val_loss: 0.0047\n",
      "Epoch 38/100\n",
      "24/24 [==============================] - 2s 77ms/step - loss: 1.7923e-04 - val_loss: 0.0090\n",
      "Epoch 39/100\n",
      "24/24 [==============================] - 2s 78ms/step - loss: 1.7807e-04 - val_loss: 0.0076\n",
      "Epoch 40/100\n",
      "24/24 [==============================] - 2s 76ms/step - loss: 1.7287e-04 - val_loss: 0.0090\n",
      "Epoch 41/100\n",
      "24/24 [==============================] - 2s 77ms/step - loss: 1.8883e-04 - val_loss: 0.0029\n",
      "Epoch 42/100\n",
      "24/24 [==============================] - 2s 77ms/step - loss: 1.8086e-04 - val_loss: 0.0066\n",
      "Epoch 43/100\n",
      "24/24 [==============================] - 2s 77ms/step - loss: 1.6874e-04 - val_loss: 0.0032\n",
      "Epoch 44/100\n",
      "24/24 [==============================] - 2s 76ms/step - loss: 1.5911e-04 - val_loss: 0.0068\n",
      "Epoch 45/100\n",
      "24/24 [==============================] - 2s 77ms/step - loss: 1.4187e-04 - val_loss: 0.0047\n",
      "Epoch 46/100\n",
      "24/24 [==============================] - 2s 77ms/step - loss: 1.4410e-04 - val_loss: 0.0034\n",
      "Epoch 47/100\n",
      "24/24 [==============================] - 2s 77ms/step - loss: 1.4596e-04 - val_loss: 0.0033\n",
      "Epoch 48/100\n",
      "24/24 [==============================] - 2s 79ms/step - loss: 1.5017e-04 - val_loss: 0.0043\n",
      "Epoch 49/100\n",
      "24/24 [==============================] - 2s 77ms/step - loss: 1.3787e-04 - val_loss: 0.0018\n",
      "Epoch 50/100\n",
      "24/24 [==============================] - 2s 77ms/step - loss: 1.4405e-04 - val_loss: 0.0024\n",
      "Epoch 51/100\n",
      "24/24 [==============================] - 2s 77ms/step - loss: 1.2738e-04 - val_loss: 0.0051\n",
      "Epoch 52/100\n",
      "24/24 [==============================] - 2s 77ms/step - loss: 1.2675e-04 - val_loss: 0.0030\n",
      "Epoch 53/100\n",
      "24/24 [==============================] - 2s 78ms/step - loss: 1.2406e-04 - val_loss: 0.0026\n",
      "Epoch 54/100\n",
      "24/24 [==============================] - 2s 77ms/step - loss: 1.3397e-04 - val_loss: 6.6295e-04\n",
      "Epoch 55/100\n",
      "24/24 [==============================] - 2s 78ms/step - loss: 1.7939e-04 - val_loss: 0.0035\n",
      "Epoch 56/100\n",
      "24/24 [==============================] - 2s 77ms/step - loss: 1.2119e-04 - val_loss: 0.0052\n",
      "Epoch 57/100\n",
      "24/24 [==============================] - 2s 78ms/step - loss: 1.6784e-04 - val_loss: 0.0049\n",
      "Epoch 58/100\n",
      "24/24 [==============================] - 2s 76ms/step - loss: 1.2030e-04 - val_loss: 0.0038\n",
      "Epoch 59/100\n",
      "24/24 [==============================] - 2s 76ms/step - loss: 1.5244e-04 - val_loss: 0.0077\n",
      "Epoch 60/100\n",
      "24/24 [==============================] - 2s 78ms/step - loss: 1.2912e-04 - val_loss: 0.0033\n",
      "Epoch 61/100\n",
      "24/24 [==============================] - 2s 77ms/step - loss: 1.1062e-04 - val_loss: 0.0080\n",
      "Epoch 62/100\n",
      "24/24 [==============================] - 2s 77ms/step - loss: 1.4833e-04 - val_loss: 0.0034\n",
      "Epoch 63/100\n",
      "24/24 [==============================] - 2s 77ms/step - loss: 1.1649e-04 - val_loss: 0.0077\n",
      "Epoch 64/100\n",
      "24/24 [==============================] - 2s 78ms/step - loss: 1.4616e-04 - val_loss: 0.0030\n",
      "Epoch 65/100\n",
      "24/24 [==============================] - 2s 77ms/step - loss: 1.1156e-04 - val_loss: 0.0026\n",
      "Epoch 66/100\n",
      "24/24 [==============================] - 2s 80ms/step - loss: 1.0446e-04 - val_loss: 0.0051\n",
      "Epoch 67/100\n",
      "24/24 [==============================] - 2s 77ms/step - loss: 1.1983e-04 - val_loss: 0.0044\n",
      "Epoch 68/100\n",
      "24/24 [==============================] - 2s 78ms/step - loss: 1.0967e-04 - val_loss: 0.0022\n",
      "Epoch 69/100\n",
      "24/24 [==============================] - 2s 77ms/step - loss: 1.0773e-04 - val_loss: 0.0060\n",
      "Epoch 70/100\n",
      "24/24 [==============================] - 2s 77ms/step - loss: 1.1082e-04 - val_loss: 0.0022\n",
      "Epoch 71/100\n",
      "24/24 [==============================] - 2s 78ms/step - loss: 1.0910e-04 - val_loss: 0.0023\n",
      "Epoch 72/100\n",
      "24/24 [==============================] - 2s 78ms/step - loss: 1.0285e-04 - val_loss: 0.0030\n",
      "Epoch 73/100\n",
      "24/24 [==============================] - 2s 78ms/step - loss: 1.2758e-04 - val_loss: 0.0018\n",
      "Epoch 74/100\n",
      "24/24 [==============================] - 2s 77ms/step - loss: 1.0628e-04 - val_loss: 0.0038\n",
      "Epoch 75/100\n",
      "24/24 [==============================] - 2s 77ms/step - loss: 1.0944e-04 - val_loss: 0.0030\n",
      "Epoch 76/100\n",
      "24/24 [==============================] - 2s 78ms/step - loss: 1.1417e-04 - val_loss: 0.0053\n",
      "Epoch 77/100\n",
      "24/24 [==============================] - 2s 77ms/step - loss: 1.0152e-04 - val_loss: 0.0040\n",
      "Epoch 78/100\n",
      "24/24 [==============================] - 2s 75ms/step - loss: 1.4971e-04 - val_loss: 0.0023\n",
      "Epoch 79/100\n",
      "24/24 [==============================] - 2s 76ms/step - loss: 1.1415e-04 - val_loss: 0.0035\n",
      "Epoch 80/100\n",
      "24/24 [==============================] - 2s 73ms/step - loss: 1.0085e-04 - val_loss: 0.0025\n",
      "Epoch 81/100\n",
      "24/24 [==============================] - 2s 70ms/step - loss: 1.0187e-04 - val_loss: 0.0011\n",
      "Epoch 82/100\n",
      "24/24 [==============================] - 2s 71ms/step - loss: 1.0004e-04 - val_loss: 0.0035\n",
      "Epoch 83/100\n",
      "24/24 [==============================] - 2s 70ms/step - loss: 1.0468e-04 - val_loss: 0.0024\n",
      "Epoch 84/100\n",
      "24/24 [==============================] - 2s 71ms/step - loss: 9.6100e-05 - val_loss: 0.0032\n",
      "Epoch 85/100\n",
      "24/24 [==============================] - 2s 75ms/step - loss: 1.1868e-04 - val_loss: 0.0044\n",
      "Epoch 86/100\n",
      "24/24 [==============================] - 2s 77ms/step - loss: 1.1868e-04 - val_loss: 0.0016\n",
      "Epoch 87/100\n",
      "24/24 [==============================] - 2s 79ms/step - loss: 1.1156e-04 - val_loss: 0.0043\n",
      "Epoch 88/100\n",
      "24/24 [==============================] - 2s 81ms/step - loss: 1.1878e-04 - val_loss: 0.0043\n",
      "Epoch 89/100\n",
      "24/24 [==============================] - 3s 113ms/step - loss: 9.8271e-05 - val_loss: 0.0042\n",
      "Epoch 90/100\n",
      "24/24 [==============================] - 3s 108ms/step - loss: 1.0016e-04 - val_loss: 0.0019\n",
      "Epoch 91/100\n",
      "24/24 [==============================] - 3s 109ms/step - loss: 1.0366e-04 - val_loss: 0.0030\n",
      "Epoch 92/100\n",
      "24/24 [==============================] - 3s 108ms/step - loss: 9.6046e-05 - val_loss: 0.0015\n",
      "Epoch 93/100\n",
      "24/24 [==============================] - 3s 108ms/step - loss: 1.0546e-04 - val_loss: 0.0024\n",
      "Epoch 94/100\n",
      "24/24 [==============================] - 4s 154ms/step - loss: 9.8865e-05 - val_loss: 0.0023\n",
      "Epoch 95/100\n",
      "24/24 [==============================] - 3s 112ms/step - loss: 9.9212e-05 - val_loss: 0.0030\n",
      "Epoch 96/100\n",
      "24/24 [==============================] - 3s 108ms/step - loss: 9.5123e-05 - val_loss: 0.0020\n",
      "Epoch 97/100\n",
      "24/24 [==============================] - 3s 106ms/step - loss: 9.1462e-05 - val_loss: 0.0019\n",
      "Epoch 98/100\n",
      "24/24 [==============================] - 2s 103ms/step - loss: 9.3851e-05 - val_loss: 0.0034\n",
      "Epoch 99/100\n",
      "24/24 [==============================] - 2s 104ms/step - loss: 9.9044e-05 - val_loss: 0.0038\n",
      "Epoch 100/100\n",
      "24/24 [==============================] - 2s 104ms/step - loss: 9.5655e-05 - val_loss: 0.0014\n"
     ]
    },
    {
     "data": {
      "text/plain": [
       "<keras.callbacks.History at 0x24f307cfd30>"
      ]
     },
     "execution_count": 64,
     "metadata": {},
     "output_type": "execute_result"
    }
   ],
   "source": [
    "model.fit(X_train , y_train , validation_data=(X_test,y_test) , epochs=100 ,  batch_size=32 , verbose=1)"
   ]
  },
  {
   "cell_type": "code",
   "execution_count": 65,
   "metadata": {},
   "outputs": [],
   "source": [
    "train_predict = model.predict(X_train)\n",
    "test_predict = model.predict(X_test)"
   ]
  },
  {
   "cell_type": "code",
   "execution_count": 67,
   "metadata": {},
   "outputs": [],
   "source": [
    "train_predict = scaler.inverse_transform(train_predict)\n",
    "test_predict = scaler.inverse_transform(test_predict)"
   ]
  },
  {
   "cell_type": "code",
   "execution_count": null,
   "metadata": {},
   "outputs": [],
   "source": []
  },
  {
   "cell_type": "code",
   "execution_count": 76,
   "metadata": {},
   "outputs": [
    {
     "data": {
      "image/png": "[encoded data removed]",
      "text/plain": [
       "<Figure size 1800x1296 with 1 Axes>"
      ]
     },
     "metadata": {
      "needs_background": "light"
     },
     "output_type": "display_data"
    }
   ],
   "source": [
    "import matplotlib.pyplot as plt\n",
    "plt.figure(figsize=(25,18)) \n",
    "look_back = 60\n",
    "trainPredictPlot = np.empty_like(data_input)\n",
    "trainPredictPlot[:,:] = np.nan\n",
    "trainPredictPlot[look_back:len(train_predict)+look_back,:] = train_predict\n",
    "# shift test predictions for plotting\n",
    "testPredictPlot = np.empty_like(data_input)\n",
    "testPredictPlot[:,:] = np.nan\n",
    "testPredictPlot[len(train_predict)+look_back*2 + 1 : len(data_input)-1,:] = test_predict\n",
    "\n",
    "plt.plot(scaler.inverse_transform(data_input))\n",
    "plt.plot(trainPredictPlot)\n",
    "plt.plot(testPredictPlot)\n",
    "plt.show()\n",
    "\n",
    "\n"
   ]
  }
 ],
 "metadata": {
  "interpreter": {
   "hash": "7d42b417d81c0d6a21cb80fa5301eb1777d3947f95341825a20df2ad36a88fbc"
  },
  "kernelspec": {
   "display_name": "Python 3.9.5 64-bit",
   "language": "python",
   "name": "python3"
  },
  "language_info": {
   "codemirror_mode": {
    "name": "ipython",
    "version": 3
   },
   "file_extension": ".py",
   "mimetype": "text/x-python",
   "name": "python",
   "nbconvert_exporter": "python",
   "pygments_lexer": "ipython3",
   "version": "3.9.5"
  },
  "orig_nbformat": 4
 },
 "nbformat": 4,
 "nbformat_minor": 2
}
