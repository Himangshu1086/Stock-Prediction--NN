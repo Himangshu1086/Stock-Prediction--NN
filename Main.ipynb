{
 "cells": [
  {
   "cell_type": "code",
   "execution_count": 6,
   "metadata": {},
   "outputs": [
    {
     "name": "stdout",
     "output_type": "stream",
     "text": [
      "Note: you may need to restart the kernel to use updated packages.\n"
     ]
    },
    {
     "name": "stderr",
     "output_type": "stream",
     "text": [
      "WARNING: You are using pip version 21.2.4; however, version 22.1.1 is available.\n",
      "You should consider upgrading via the 'c:\\Users\\HIMANGSHUB\\AppData\\Local\\Programs\\Python\\Python39\\python.exe -m pip install --upgrade pip' command.\n"
     ]
    }
   ],
   "source": [
    "#pip install pandas --quiet"
   ]
  },
  {
   "cell_type": "code",
   "execution_count": 1,
   "metadata": {},
   "outputs": [],
   "source": [
    "import pandas as pd\n",
    "import numpy as np"
   ]
  },
  {
   "cell_type": "markdown",
   "metadata": {},
   "source": [
    "Reading the DataSet "
   ]
  },
  {
   "cell_type": "code",
   "execution_count": 2,
   "metadata": {},
   "outputs": [],
   "source": [
    "# data_df = pd.read_csv('ASIANPAINT.csv')\n",
    "# data_df"
   ]
  },
  {
   "cell_type": "code",
   "execution_count": 147,
   "metadata": {},
   "outputs": [],
   "source": [
    "data_df = pd.read_csv('RELIANCE.csv')"
   ]
  },
  {
   "cell_type": "code",
   "execution_count": 148,
   "metadata": {},
   "outputs": [
    {
     "data": {
      "text/plain": [
       "0        901.207458\n",
       "1        902.594299\n",
       "2        906.210022\n",
       "3        911.658386\n",
       "4        914.580688\n",
       "           ...     \n",
       "1292    2247.800049\n",
       "1293    2203.300049\n",
       "1294    2237.550049\n",
       "1295    2248.000000\n",
       "1296    2234.699951\n",
       "Name: Close, Length: 1297, dtype: float64"
      ]
     },
     "execution_count": 148,
     "metadata": {},
     "output_type": "execute_result"
    }
   ],
   "source": [
    "data_open = data_df['Close']\n",
    "data_open"
   ]
  },
  {
   "cell_type": "code",
   "execution_count": 149,
   "metadata": {},
   "outputs": [
    {
     "data": {
      "text/plain": [
       "(1297, 1)"
      ]
     },
     "execution_count": 149,
     "metadata": {},
     "output_type": "execute_result"
    }
   ],
   "source": [
    "from sklearn.preprocessing import MinMaxScaler\n",
    "scaler = MinMaxScaler();\n",
    "data_input = scaler.fit_transform(np.array(data_open).reshape(-1,1))\n",
    "data_input.shape"
   ]
  },
  {
   "cell_type": "code",
   "execution_count": 150,
   "metadata": {},
   "outputs": [
    {
     "name": "stdout",
     "output_type": "stream",
     "text": [
      "260\n"
     ]
    }
   ],
   "source": [
    "# splitting dataset \n",
    "\n",
    "training_size = int(len(data_input)*0.80) # no. of instance of training set\n",
    "test_size = len(data_input) - training_size # no. of instances of test set\n",
    "print(test_size)\n",
    "train_data , test_data = data_input[0:training_size ,:] , data_input[training_size:len(data_input),:]\n"
   ]
  },
  {
   "cell_type": "code",
   "execution_count": 151,
   "metadata": {},
   "outputs": [
    {
     "data": {
      "text/plain": [
       "((1037, 1), (260, 1))"
      ]
     },
     "execution_count": 151,
     "metadata": {},
     "output_type": "execute_result"
    }
   ],
   "source": [
    "train_data.shape , test_data.shape"
   ]
  },
  {
   "cell_type": "code",
   "execution_count": 152,
   "metadata": {},
   "outputs": [],
   "source": [
    "def create_dataset(dataset , time_step=1):\n",
    "    dataX , dataY = [] ,[]\n",
    "    for i in range (len(dataset)-time_step -1):\n",
    "        a = dataset[i:(i+time_step),0]\n",
    "        dataX.append(a)\n",
    "        dataY.append(dataset[i+time_step,0])\n",
    "    return np.array(dataX),np.array(dataY)"
   ]
  },
  {
   "cell_type": "code",
   "execution_count": 153,
   "metadata": {},
   "outputs": [],
   "source": [
    "time_step = 60\n",
    "X_train , y_train = create_dataset(train_data,time_step)\n",
    "X_test,y_test = create_dataset(test_data,time_step)"
   ]
  },
  {
   "cell_type": "code",
   "execution_count": 154,
   "metadata": {},
   "outputs": [
    {
     "data": {
      "text/plain": [
       "(976, 60)"
      ]
     },
     "execution_count": 154,
     "metadata": {},
     "output_type": "execute_result"
    }
   ],
   "source": [
    "X_train.shape"
   ]
  },
  {
   "cell_type": "code",
   "execution_count": 155,
   "metadata": {},
   "outputs": [],
   "source": [
    "X_train = X_train.reshape(X_train.shape[0],X_train.shape[1],1)\n",
    "X_test = X_test.reshape(X_test.shape[0],X_test.shape[1],1)\n"
   ]
  },
  {
   "cell_type": "code",
   "execution_count": 156,
   "metadata": {},
   "outputs": [],
   "source": [
    "from tensorflow.keras.models import Sequential \n",
    "from tensorflow.keras.layers import Dense\n",
    "from tensorflow.keras.layers import LSTM"
   ]
  },
  {
   "cell_type": "code",
   "execution_count": 157,
   "metadata": {},
   "outputs": [],
   "source": [
    "model = Sequential();\n",
    "model.add(LSTM(64,return_sequences=True,input_shape=(60,1)))\n",
    "model.add(LSTM(64,return_sequences=True))\n",
    "model.add(LSTM(64))\n",
    "model.add(Dense(1,activation='linear'))\n",
    "model.compile(loss=\"mape\" , optimizer='adam')"
   ]
  },
  {
   "cell_type": "code",
   "execution_count": 158,
   "metadata": {},
   "outputs": [
    {
     "name": "stdout",
     "output_type": "stream",
     "text": [
      "Epoch 1/50\n",
      "31/31 [==============================] - 9s 120ms/step - loss: 67.0956 - val_loss: 49.3170\n",
      "Epoch 2/50\n",
      "31/31 [==============================] - 2s 78ms/step - loss: 56.0192 - val_loss: 25.6934\n",
      "Epoch 3/50\n",
      "31/31 [==============================] - 2s 77ms/step - loss: 43.6508 - val_loss: 8.8048\n",
      "Epoch 4/50\n",
      "31/31 [==============================] - 2s 75ms/step - loss: 33.8965 - val_loss: 35.2005\n",
      "Epoch 5/50\n",
      "31/31 [==============================] - 2s 76ms/step - loss: 28.9111 - val_loss: 16.3649\n",
      "Epoch 6/50\n",
      "31/31 [==============================] - 2s 78ms/step - loss: 20.6711 - val_loss: 5.8513\n",
      "Epoch 7/50\n",
      "31/31 [==============================] - 2s 74ms/step - loss: 26.9255 - val_loss: 10.0973\n",
      "Epoch 8/50\n",
      "31/31 [==============================] - 2s 77ms/step - loss: 24.4012 - val_loss: 3.5777\n",
      "Epoch 9/50\n",
      "31/31 [==============================] - 2s 76ms/step - loss: 18.3554 - val_loss: 4.5481\n",
      "Epoch 10/50\n",
      "31/31 [==============================] - 2s 78ms/step - loss: 15.3270 - val_loss: 4.1711\n",
      "Epoch 11/50\n",
      "31/31 [==============================] - 2s 76ms/step - loss: 21.6980 - val_loss: 3.8216\n",
      "Epoch 12/50\n",
      "31/31 [==============================] - 2s 74ms/step - loss: 18.1073 - val_loss: 3.4792\n",
      "Epoch 13/50\n",
      "31/31 [==============================] - 2s 78ms/step - loss: 14.9100 - val_loss: 6.5957\n",
      "Epoch 14/50\n",
      "31/31 [==============================] - 2s 75ms/step - loss: 16.5638 - val_loss: 2.9445\n",
      "Epoch 15/50\n",
      "31/31 [==============================] - 2s 74ms/step - loss: 25.7191 - val_loss: 16.8548\n",
      "Epoch 16/50\n",
      "31/31 [==============================] - 2s 77ms/step - loss: 19.8143 - val_loss: 3.8237\n",
      "Epoch 17/50\n",
      "31/31 [==============================] - 2s 76ms/step - loss: 14.1856 - val_loss: 3.5768\n",
      "Epoch 18/50\n",
      "31/31 [==============================] - 2s 77ms/step - loss: 17.8999 - val_loss: 6.1095\n",
      "Epoch 19/50\n",
      "31/31 [==============================] - 2s 75ms/step - loss: 20.1836 - val_loss: 3.3615\n",
      "Epoch 20/50\n",
      "31/31 [==============================] - 2s 78ms/step - loss: 14.0185 - val_loss: 6.9133\n",
      "Epoch 21/50\n",
      "31/31 [==============================] - 2s 78ms/step - loss: 18.0519 - val_loss: 2.8837\n",
      "Epoch 22/50\n",
      "31/31 [==============================] - 2s 76ms/step - loss: 17.2678 - val_loss: 4.5339\n",
      "Epoch 23/50\n",
      "31/31 [==============================] - 2s 76ms/step - loss: 11.9586 - val_loss: 2.7258\n",
      "Epoch 24/50\n",
      "31/31 [==============================] - 2s 79ms/step - loss: 17.1772 - val_loss: 3.0264\n",
      "Epoch 25/50\n",
      "31/31 [==============================] - 3s 83ms/step - loss: 13.2849 - val_loss: 2.7565\n",
      "Epoch 26/50\n",
      "31/31 [==============================] - 2s 78ms/step - loss: 14.3487 - val_loss: 2.7509\n",
      "Epoch 27/50\n",
      "31/31 [==============================] - 2s 78ms/step - loss: 16.5373 - val_loss: 6.9126\n",
      "Epoch 28/50\n",
      "31/31 [==============================] - 2s 77ms/step - loss: 12.1153 - val_loss: 5.1604\n",
      "Epoch 29/50\n",
      "31/31 [==============================] - 2s 77ms/step - loss: 14.5888 - val_loss: 6.8707\n",
      "Epoch 30/50\n",
      "31/31 [==============================] - 2s 77ms/step - loss: 14.3081 - val_loss: 8.6834\n",
      "Epoch 31/50\n",
      "31/31 [==============================] - 2s 77ms/step - loss: 13.4928 - val_loss: 3.6260\n",
      "Epoch 32/50\n",
      "31/31 [==============================] - 2s 77ms/step - loss: 16.1545 - val_loss: 2.5584\n",
      "Epoch 33/50\n",
      "31/31 [==============================] - 3s 82ms/step - loss: 14.0360 - val_loss: 5.4825\n",
      "Epoch 34/50\n",
      "31/31 [==============================] - 3s 83ms/step - loss: 12.1273 - val_loss: 6.3580\n",
      "Epoch 35/50\n",
      "31/31 [==============================] - 3s 82ms/step - loss: 11.1831 - val_loss: 2.7583\n",
      "Epoch 36/50\n",
      "31/31 [==============================] - 3s 88ms/step - loss: 15.2129 - val_loss: 2.6279\n",
      "Epoch 37/50\n",
      "31/31 [==============================] - 3s 81ms/step - loss: 9.9416 - val_loss: 2.4994\n",
      "Epoch 38/50\n",
      "31/31 [==============================] - 3s 85ms/step - loss: 12.4971 - val_loss: 3.2493\n",
      "Epoch 39/50\n",
      "31/31 [==============================] - 3s 86ms/step - loss: 18.0807 - val_loss: 2.9401\n",
      "Epoch 40/50\n",
      "31/31 [==============================] - 3s 93ms/step - loss: 13.0607 - val_loss: 6.7550\n",
      "Epoch 41/50\n",
      "31/31 [==============================] - 3s 91ms/step - loss: 9.6168 - val_loss: 3.2124\n",
      "Epoch 42/50\n",
      "31/31 [==============================] - 3s 86ms/step - loss: 18.2560 - val_loss: 5.1793\n",
      "Epoch 43/50\n",
      "31/31 [==============================] - 5s 164ms/step - loss: 10.1239 - val_loss: 4.5936\n",
      "Epoch 44/50\n",
      "31/31 [==============================] - 6s 204ms/step - loss: 19.7406 - val_loss: 12.5423\n",
      "Epoch 45/50\n",
      "31/31 [==============================] - 6s 194ms/step - loss: 21.3448 - val_loss: 4.1787\n",
      "Epoch 46/50\n",
      "31/31 [==============================] - 6s 183ms/step - loss: 9.2964 - val_loss: 10.2400\n",
      "Epoch 47/50\n",
      "31/31 [==============================] - 4s 142ms/step - loss: 16.4404 - val_loss: 2.9752\n",
      "Epoch 48/50\n",
      "31/31 [==============================] - 5s 154ms/step - loss: 13.8954 - val_loss: 6.1104\n",
      "Epoch 49/50\n",
      "31/31 [==============================] - 4s 120ms/step - loss: 10.7415 - val_loss: 2.2942\n",
      "Epoch 50/50\n",
      "31/31 [==============================] - 3s 84ms/step - loss: 13.5886 - val_loss: 2.8217\n"
     ]
    },
    {
     "data": {
      "text/plain": [
       "<keras.callbacks.History at 0x192709d1be0>"
      ]
     },
     "execution_count": 158,
     "metadata": {},
     "output_type": "execute_result"
    }
   ],
   "source": [
    "model.fit(X_train , y_train , validation_data=(X_test,y_test) , epochs=50 ,  batch_size=32 , verbose=1)"
   ]
  },
  {
   "cell_type": "code",
   "execution_count": 159,
   "metadata": {},
   "outputs": [],
   "source": [
    "train_predict = model.predict(X_train)\n",
    "test_predict = model.predict(X_test)"
   ]
  },
  {
   "cell_type": "code",
   "execution_count": 160,
   "metadata": {},
   "outputs": [],
   "source": [
    "train_predict = scaler.inverse_transform(train_predict)\n",
    "test_predict = scaler.inverse_transform(test_predict)"
   ]
  },
  {
   "cell_type": "code",
   "execution_count": null,
   "metadata": {},
   "outputs": [],
   "source": []
  },
  {
   "cell_type": "code",
   "execution_count": 161,
   "metadata": {},
   "outputs": [
    {
     "data": {
      "image/png": "[encoded data removed]",
      "text/plain": [
       "<Figure size 1800x1296 with 1 Axes>"
      ]
     },
     "metadata": {
      "needs_background": "light"
     },
     "output_type": "display_data"
    }
   ],
   "source": [
    "import matplotlib.pyplot as plt\n",
    "plt.figure(figsize=(25,18)) \n",
    "look_back = 60\n",
    "trainPredictPlot = np.empty_like(data_input)\n",
    "trainPredictPlot[:,:] = np.nan\n",
    "trainPredictPlot[look_back:len(train_predict)+look_back,:] = train_predict\n",
    "# shift test predictions for plotting\n",
    "testPredictPlot = np.empty_like(data_input)\n",
    "testPredictPlot[:,:] = np.nan\n",
    "testPredictPlot[len(train_predict)+look_back*2 + 1 : len(data_input)-1,:] = test_predict\n",
    "\n",
    "plt.plot(scaler.inverse_transform(data_input))\n",
    "plt.plot(trainPredictPlot)\n",
    "plt.plot(testPredictPlot)\n",
    "plt.show()"
   ]
  },
  {
   "cell_type": "code",
   "execution_count": null,
   "metadata": {},
   "outputs": [],
   "source": []
  },
  {
   "cell_type": "code",
   "execution_count": 162,
   "metadata": {},
   "outputs": [],
   "source": [
    "testing = pd.read_csv(\"testing.csv\")\n",
    "test_60 = testing['Close']\n",
    "test_60 = np.array(test_60).reshape(-1,1)\n",
    "\n",
    "for i in range(700):\n",
    "    data_input = scaler.transform(test_60[i:60+i])\n",
    "    test_new = data_input.reshape(1,60,1)\n",
    "    predict_new = model.predict(test_new)\n",
    "    predict_new = scaler.inverse_transform(predict_new)\n",
    "    test_60 = np.append(test_60 ,predict_new).reshape(-1,1)"
   ]
  },
  {
   "cell_type": "code",
   "execution_count": 168,
   "metadata": {},
   "outputs": [
    {
     "data": {
      "text/plain": [
       "array([[2276.6882]], dtype=float32)"
      ]
     },
     "execution_count": 168,
     "metadata": {},
     "output_type": "execute_result"
    }
   ],
   "source": [
    "# test_60 = np.append(test_60 ,[[2234.70]]).reshape(-1,1)\n",
    "# test_60 = np.append(test_60 ,[[2331.05]]).reshape(-1,1)\n",
    "data_input = scaler.transform(test_60[:60])\n",
    "test_new = data_input.reshape(1,60,1)\n",
    "predict_new = model.predict(test_new)\n",
    "scaler.inverse_transform(predict_new)"
   ]
  },
  {
   "cell_type": "code",
   "execution_count": 163,
   "metadata": {},
   "outputs": [
    {
     "data": {
      "application/vnd.plotly.v1+json": {
       "config": {
        "plotlyServerURL": "https://plot.ly"
       },
       "data": [
        {
         "hovertemplate": "variable=0<br>index=%{x}<br>value=%{y}<extra></extra>",
         "legendgroup": "0",
         "line": {
          "color": "#636efa",
          "dash": "solid"
         },
         "marker": {
          "symbol": "circle"
         },
         "mode": "lines",
         "name": "0",
         "orientation": "v",
         "showlegend": true,
         "type": "scatter",
         "x": [
          0,
          1,
          2,
          3,
          4,
          5,
          6,
          7,
          8,
          9,
          10,
          11,
          12,
          13,
          14,
          15,
          16,
          17,
          18,
          19,
          20,
          21,
          22,
          23,
          24,
          25,
          26,
          27,
          28,
          29,
          30,
          31,
          32,
          33,
          34,
          35,
          36,
          37,
          38,
          39,
          40,
          41,
          42,
          43,
          44,
          45,
          46,
          47,
          48,
          49,
          50,
          51,
          52,
          53,
          54,
          55,
          56,
          57,
          58,
          59,
          60,
          61,
          62,
          63,
          64,
          65,
          66,
          67,
          68,
          69,
          70,
          71,
          72,
          73,
          74,
          75,
          76,
          77,
          78,
          79,
          80,
          81,
          82,
          83,
          84,
          85,
          86,
          87,
          88,
          89,
          90,
          91,
          92,
          93,
          94,
          95,
          96,
          97,
          98,
          99,
          100,
          101,
          102,
          103,
          104,
          105,
          106,
          107,
          108,
          109,
          110,
          111,
          112,
          113,
          114,
          115,
          116,
          117,
          118,
          119,
          120,
          121,
          122,
          123,
          124,
          125,
          126,
          127,
          128,
          129,
          130,
          131,
          132,
          133,
          134,
          135,
          136,
          137,
          138,
          139,
          140,
          141,
          142,
          143,
          144,
          145,
          146,
          147,
          148,
          149,
          150,
          151,
          152,
          153,
          154,
          155,
          156,
          157,
          158,
          159,
          160,
          161,
          162,
          163,
          164,
          165,
          166,
          167,
          168,
          169,
          170,
          171,
          172,
          173,
          174,
          175,
          176,
          177,
          178,
          179,
          180,
          181,
          182,
          183,
          184,
          185,
          186,
          187,
          188,
          189,
          190,
          191,
          192,
          193,
          194,
          195,
          196,
          197,
          198,
          199,
          200,
          201,
          202,
          203,
          204,
          205,
          206,
          207,
          208,
          209,
          210,
          211,
          212,
          213,
          214,
          215,
          216,
          217,
          218,
          219,
          220,
          221,
          222,
          223,
          224,
          225,
          226,
          227,
          228,
          229,
          230,
          231,
          232,
          233,
          234,
          235,
          236,
          237,
          238,
          239,
          240,
          241,
          242,
          243,
          244,
          245,
          246,
          247,
          248,
          249,
          250,
          251,
          252,
          253,
          254,
          255,
          256,
          257,
          258,
          259,
          260,
          261,
          262,
          263,
          264,
          265,
          266,
          267,
          268,
          269,
          270,
          271,
          272,
          273,
          274,
          275,
          276,
          277,
          278,
          279,
          280,
          281,
          282,
          283,
          284,
          285,
          286,
          287,
          288,
          289,
          290,
          291,
          292,
          293,
          294,
          295,
          296,
          297,
          298,
          299,
          300,
          301,
          302,
          303,
          304,
          305,
          306,
          307,
          308,
          309,
          310,
          311,
          312,
          313,
          314,
          315,
          316,
          317,
          318,
          319,
          320,
          321,
          322,
          323,
          324,
          325,
          326,
          327,
          328,
          329,
          330,
          331,
          332,
          333,
          334,
          335,
          336,
          337,
          338,
          339,
          340,
          341,
          342,
          343,
          344,
          345,
          346,
          347,
          348,
          349,
          350,
          351,
          352,
          353,
          354,
          355,
          356,
          357,
          358,
          359,
          360,
          361,
          362,
          363,
          364,
          365,
          366,
          367,
          368,
          369,
          370,
          371,
          372,
          373,
          374,
          375,
          376,
          377,
          378,
          379,
          380,
          381,
          382,
          383,
          384,
          385,
          386,
          387,
          388,
          389,
          390,
          391,
          392,
          393,
          394,
          395,
          396,
          397,
          398,
          399,
          400,
          401,
          402,
          403,
          404,
          405,
          406,
          407,
          408,
          409,
          410,
          411,
          412,
          413,
          414,
          415,
          416,
          417,
          418,
          419,
          420,
          421,
          422,
          423,
          424,
          425,
          426,
          427,
          428,
          429,
          430,
          431,
          432,
          433,
          434,
          435,
          436,
          437,
          438,
          439,
          440,
          441,
          442,
          443,
          444,
          445,
          446,
          447,
          448,
          449,
          450,
          451,
          452,
          453,
          454,
          455,
          456,
          457,
          458,
          459,
          460,
          461,
          462,
          463,
          464,
          465,
          466,
          467,
          468,
          469,
          470,
          471,
          472,
          473,
          474,
          475,
          476,
          477,
          478,
          479,
          480,
          481,
          482,
          483,
          484,
          485,
          486,
          487,
          488,
          489,
          490,
          491,
          492,
          493,
          494,
          495,
          496,
          497,
          498,
          499,
          500,
          501,
          502,
          503,
          504,
          505,
          506,
          507,
          508,
          509,
          510,
          511,
          512,
          513,
          514,
          515,
          516,
          517,
          518,
          519,
          520,
          521,
          522,
          523,
          524,
          525,
          526,
          527,
          528,
          529,
          530,
          531,
          532,
          533,
          534,
          535,
          536,
          537,
          538,
          539,
          540,
          541,
          542,
          543,
          544,
          545,
          546,
          547,
          548,
          549,
          550,
          551,
          552,
          553,
          554,
          555,
          556,
          557,
          558,
          559,
          560,
          561,
          562,
          563,
          564,
          565,
          566,
          567,
          568,
          569,
          570,
          571,
          572,
          573,
          574,
          575,
          576,
          577,
          578,
          579,
          580,
          581,
          582,
          583,
          584,
          585,
          586,
          587,
          588,
          589,
          590,
          591,
          592,
          593,
          594,
          595,
          596,
          597,
          598,
          599,
          600,
          601,
          602,
          603,
          604,
          605,
          606,
          607,
          608,
          609,
          610,
          611,
          612,
          613,
          614,
          615,
          616,
          617,
          618,
          619,
          620,
          621,
          622,
          623,
          624,
          625,
          626,
          627,
          628,
          629,
          630,
          631,
          632,
          633,
          634,
          635,
          636,
          637,
          638,
          639,
          640,
          641,
          642,
          643,
          644,
          645,
          646,
          647,
          648,
          649,
          650,
          651,
          652,
          653,
          654,
          655,
          656,
          657,
          658,
          659,
          660,
          661,
          662,
          663,
          664,
          665,
          666,
          667,
          668,
          669,
          670,
          671,
          672,
          673,
          674,
          675,
          676,
          677,
          678,
          679,
          680,
          681,
          682,
          683,
          684,
          685,
          686,
          687,
          688,
          689,
          690,
          691,
          692,
          693,
          694,
          695,
          696,
          697,
          698,
          699,
          700,
          701,
          702,
          703,
          704,
          705,
          706,
          707,
          708,
          709,
          710,
          711,
          712,
          713,
          714,
          715,
          716,
          717,
          718,
          719,
          720,
          721,
          722,
          723,
          724,
          725,
          726,
          727,
          728,
          729,
          730,
          731,
          732,
          733,
          734,
          735,
          736,
          737,
          738,
          739,
          740,
          741,
          742,
          743,
          744,
          745,
          746,
          747,
          748,
          749,
          750,
          751,
          752,
          753,
          754,
          755,
          756,
          757,
          758,
          759
         ],
         "xaxis": "x",
         "y": [
          2557.050049,
          2518.550049,
          2514.050049,
          2536.899902,
          2596.800049,
          2558.399902,
          2526.149902,
          2471.600098,
          2467.600098,
          2444.100098,
          2478.800049,
          2474.699951,
          2472.050049,
          2442.649902,
          2430.300049,
          2415.949951,
          2382.550049,
          2337.350098,
          2359.75,
          2353.850098,
          2339.899902,
          2326.949951,
          2329,
          2311.449951,
          2305.899902,
          2351.949951,
          2356.050049,
          2336.649902,
          2323.350098,
          2378.100098,
          2431.949951,
          2430.050049,
          2440.199951,
          2414.399902,
          2434.100098,
          2378.899902,
          2367.5,
          2383.699951,
          2367.850098,
          2322.550049,
          2343.899902,
          2326.050049,
          2385.399902,
          2408.699951,
          2417.350098,
          2359.25,
          2322.699951,
          2284.5,
          2275.949951,
          2237.050049,
          2225.899902,
          2223.100098,
          2201.25,
          2269.699951,
          2276.600098,
          2247.800049,
          2203.300049,
          2237.550049,
          2248,
          2234.699951,
          2276.688232421875,
          2289.12353515625,
          2305.6875,
          2323.939453125,
          2342.873291015625,
          2362.048095703125,
          2381.223876953125,
          2400.239013671875,
          2418.973388671875,
          2437.336181640625,
          2455.2578125,
          2472.687255859375,
          2489.588623046875,
          2505.937255859375,
          2521.718994140625,
          2536.92626953125,
          2551.558349609375,
          2565.6181640625,
          2579.11328125,
          2592.053955078125,
          2604.4521484375,
          2616.3212890625,
          2627.6767578125,
          2638.5341796875,
          2648.9091796875,
          2658.818603515625,
          2668.279541015625,
          2677.30859375,
          2685.921630859375,
          2694.134765625,
          2701.96435546875,
          2709.42626953125,
          2716.534912109375,
          2723.305419921875,
          2729.752685546875,
          2735.889404296875,
          2741.73046875,
          2747.28759765625,
          2752.57470703125,
          2757.603271484375,
          2762.384521484375,
          2766.93017578125,
          2771.251708984375,
          2775.358642578125,
          2779.26123046875,
          2782.96923828125,
          2786.491455078125,
          2789.837158203125,
          2793.0146484375,
          2796.031494140625,
          2798.8955078125,
          2801.615966796875,
          2804.19677734375,
          2806.6474609375,
          2808.97265625,
          2811.179931640625,
          2813.2744140625,
          2815.260498046875,
          2817.146240234375,
          2818.9345703125,
          2820.630615234375,
          2822.239501953125,
          2823.76611328125,
          2825.213134765625,
          2826.5859375,
          2827.8876953125,
          2829.121826171875,
          2830.29248046875,
          2831.40234375,
          2832.454345703125,
          2833.4521484375,
          2834.3974609375,
          2835.294189453125,
          2836.1435546875,
          2836.94970703125,
          2837.71337890625,
          2838.437255859375,
          2839.12353515625,
          2839.7734375,
          2840.39013671875,
          2840.97509765625,
          2841.528076171875,
          2842.053466796875,
          2842.550537109375,
          2843.022216796875,
          2843.468505859375,
          2843.89208984375,
          2844.29296875,
          2844.6728515625,
          2845.033447265625,
          2845.374755859375,
          2845.6982421875,
          2846.004638671875,
          2846.294677734375,
          2846.5703125,
          2846.8310546875,
          2847.078369140625,
          2847.312255859375,
          2847.53369140625,
          2847.744140625,
          2847.943359375,
          2848.1318359375,
          2848.310791015625,
          2848.480224609375,
          2848.64013671875,
          2848.793212890625,
          2848.93701171875,
          2849.0732421875,
          2849.20263671875,
          2849.32568359375,
          2849.44140625,
          2849.551513671875,
          2849.655517578125,
          2849.75439453125,
          2849.84765625,
          2849.93701171875,
          2850.0205078125,
          2850.10009765625,
          2850.175537109375,
          2850.24658203125,
          2850.314697265625,
          2850.37841796875,
          2850.43896484375,
          2850.49658203125,
          2850.55029296875,
          2850.602294921875,
          2850.651611328125,
          2850.697998046875,
          2850.741943359375,
          2850.783203125,
          2850.82275390625,
          2850.860107421875,
          2850.895263671875,
          2850.92822265625,
          2850.960205078125,
          2850.990478515625,
          2851.018798828125,
          2851.046142578125,
          2851.07177734375,
          2851.09619140625,
          2851.11865234375,
          2851.140380859375,
          2851.160888671875,
          2851.18017578125,
          2851.19873046875,
          2851.216064453125,
          2851.23291015625,
          2851.248046875,
          2851.262939453125,
          2851.277099609375,
          2851.2900390625,
          2851.302734375,
          2851.31494140625,
          2851.326416015625,
          2851.337158203125,
          2851.347412109375,
          2851.35693359375,
          2851.3662109375,
          2851.375,
          2851.383056640625,
          2851.390869140625,
          2851.39794921875,
          2851.4052734375,
          2851.411865234375,
          2851.417724609375,
          2851.423583984375,
          2851.4287109375,
          2851.433837890625,
          2851.43896484375,
          2851.444091796875,
          2851.448486328125,
          2851.4521484375,
          2851.45654296875,
          2851.460205078125,
          2851.464111328125,
          2851.467529296875,
          2851.47119140625,
          2851.474365234375,
          2851.476806640625,
          2851.47998046875,
          2851.48291015625,
          2851.4853515625,
          2851.488037109375,
          2851.489990234375,
          2851.49267578125,
          2851.494384765625,
          2851.49658203125,
          2851.49853515625,
          2851.500244140625,
          2851.501708984375,
          2851.5029296875,
          2851.50439453125,
          2851.505859375,
          2851.507080078125,
          2851.50830078125,
          2851.509521484375,
          2851.5107421875,
          2851.51171875,
          2851.5126953125,
          2851.513427734375,
          2851.5146484375,
          2851.515380859375,
          2851.516357421875,
          2851.516845703125,
          2851.517578125,
          2851.5185546875,
          2851.51953125,
          2851.52001953125,
          2851.520751953125,
          2851.521240234375,
          2851.52197265625,
          2851.522216796875,
          2851.522705078125,
          2851.52294921875,
          2851.523193359375,
          2851.523681640625,
          2851.524169921875,
          2851.5244140625,
          2851.52490234375,
          2851.525146484375,
          2851.525634765625,
          2851.52587890625,
          2851.526123046875,
          2851.526123046875,
          2851.5263671875,
          2851.526611328125,
          2851.527099609375,
          2851.52734375,
          2851.52734375,
          2851.527587890625,
          2851.527587890625,
          2851.527587890625,
          2851.527587890625,
          2851.528076171875,
          2851.528076171875,
          2851.5283203125,
          2851.5283203125,
          2851.528564453125,
          2851.52880859375,
          2851.52880859375,
          2851.529052734375,
          2851.529296875,
          2851.529296875,
          2851.529541015625,
          2851.529541015625,
          2851.52978515625,
          2851.52978515625,
          2851.530029296875,
          2851.530029296875,
          2851.5302734375,
          2851.530029296875,
          2851.530029296875,
          2851.530029296875,
          2851.5302734375,
          2851.5302734375,
          2851.5302734375,
          2851.5302734375,
          2851.5302734375,
          2851.5302734375,
          2851.5302734375,
          2851.5302734375,
          2851.5302734375,
          2851.5302734375,
          2851.530517578125,
          2851.5302734375,
          2851.5302734375,
          2851.530517578125,
          2851.530517578125,
          2851.530517578125,
          2851.5302734375,
          2851.530517578125,
          2851.530517578125,
          2851.5302734375,
          2851.530517578125,
          2851.530517578125,
          2851.530517578125,
          2851.530517578125,
          2851.530517578125,
          2851.53076171875,
          2851.53076171875,
          2851.53076171875,
          2851.530517578125,
          2851.530517578125,
          2851.530517578125,
          2851.53076171875,
          2851.53076171875,
          2851.53076171875,
          2851.53076171875,
          2851.53076171875,
          2851.530517578125,
          2851.53076171875,
          2851.53076171875,
          2851.530517578125,
          2851.53076171875,
          2851.530517578125,
          2851.530517578125,
          2851.530517578125,
          2851.53076171875,
          2851.53076171875,
          2851.53076171875,
          2851.53076171875,
          2851.530517578125,
          2851.530517578125,
          2851.53076171875,
          2851.53076171875,
          2851.53076171875,
          2851.53076171875,
          2851.53076171875,
          2851.53076171875,
          2851.53076171875,
          2851.53076171875,
          2851.530517578125,
          2851.53076171875,
          2851.53076171875,
          2851.53076171875,
          2851.531005859375,
          2851.53076171875,
          2851.53076171875,
          2851.53076171875,
          2851.53076171875,
          2851.53076171875,
          2851.53076171875,
          2851.530517578125,
          2851.53076171875,
          2851.530517578125,
          2851.530517578125,
          2851.53076171875,
          2851.53076171875,
          2851.53076171875,
          2851.53076171875,
          2851.53076171875,
          2851.53076171875,
          2851.53076171875,
          2851.530517578125,
          2851.53076171875,
          2851.53076171875,
          2851.531005859375,
          2851.530517578125,
          2851.53076171875,
          2851.53076171875,
          2851.53076171875,
          2851.53076171875,
          2851.530517578125,
          2851.530517578125,
          2851.530517578125,
          2851.530517578125,
          2851.530517578125,
          2851.53076171875,
          2851.53076171875,
          2851.53076171875,
          2851.530517578125,
          2851.53076171875,
          2851.530517578125,
          2851.53076171875,
          2851.53076171875,
          2851.53076171875,
          2851.53076171875,
          2851.53076171875,
          2851.530517578125,
          2851.53076171875,
          2851.530517578125,
          2851.53076171875,
          2851.530517578125,
          2851.530517578125,
          2851.530517578125,
          2851.53076171875,
          2851.53076171875,
          2851.53076171875,
          2851.53076171875,
          2851.53076171875,
          2851.53076171875,
          2851.530517578125,
          2851.53076171875,
          2851.53076171875,
          2851.530517578125,
          2851.53076171875,
          2851.530517578125,
          2851.530517578125,
          2851.53076171875,
          2851.53076171875,
          2851.53076171875,
          2851.53076171875,
          2851.53076171875,
          2851.53076171875,
          2851.53076171875,
          2851.53076171875,
          2851.53076171875,
          2851.53076171875,
          2851.53076171875,
          2851.53076171875,
          2851.53076171875,
          2851.53076171875,
          2851.53076171875,
          2851.53076171875,
          2851.53076171875,
          2851.53076171875,
          2851.531005859375,
          2851.53076171875,
          2851.53076171875,
          2851.53076171875,
          2851.53076171875,
          2851.53076171875,
          2851.53076171875,
          2851.53076171875,
          2851.53076171875,
          2851.53076171875,
          2851.53076171875,
          2851.530517578125,
          2851.530517578125,
          2851.53076171875,
          2851.53076171875,
          2851.53076171875,
          2851.53076171875,
          2851.53076171875,
          2851.53076171875,
          2851.53076171875,
          2851.53076171875,
          2851.530517578125,
          2851.530517578125,
          2851.53076171875,
          2851.53076171875,
          2851.530517578125,
          2851.53076171875,
          2851.53076171875,
          2851.53076171875,
          2851.53076171875,
          2851.53076171875,
          2851.53076171875,
          2851.53076171875,
          2851.53076171875,
          2851.53076171875,
          2851.53076171875,
          2851.530517578125,
          2851.53076171875,
          2851.530517578125,
          2851.53076171875,
          2851.530517578125,
          2851.530517578125,
          2851.53076171875,
          2851.53076171875,
          2851.53076171875,
          2851.53076171875,
          2851.53076171875,
          2851.53076171875,
          2851.53076171875,
          2851.53076171875,
          2851.530517578125,
          2851.530517578125,
          2851.53076171875,
          2851.530517578125,
          2851.530517578125,
          2851.53076171875,
          2851.53076171875,
          2851.530517578125,
          2851.530517578125,
          2851.530517578125,
          2851.530517578125,
          2851.530517578125,
          2851.53076171875,
          2851.531005859375,
          2851.531005859375,
          2851.531005859375,
          2851.531005859375,
          2851.531005859375,
          2851.531005859375,
          2851.531005859375,
          2851.53125,
          2851.53125,
          2851.53125,
          2851.53125,
          2851.53125,
          2851.53125,
          2851.53125,
          2851.53125,
          2851.53125,
          2851.53125,
          2851.53125,
          2851.53125,
          2851.53125,
          2851.53125,
          2851.53125,
          2851.53125,
          2851.53125,
          2851.53125,
          2851.53125,
          2851.53125,
          2851.53125,
          2851.53125,
          2851.53125,
          2851.53125,
          2851.531005859375,
          2851.53125,
          2851.531005859375,
          2851.531005859375,
          2851.531005859375,
          2851.531005859375,
          2851.531005859375,
          2851.531005859375,
          2851.531005859375,
          2851.53125,
          2851.531005859375,
          2851.531005859375,
          2851.53125,
          2851.531005859375,
          2851.531005859375,
          2851.531005859375,
          2851.531005859375,
          2851.531005859375,
          2851.531005859375,
          2851.531005859375,
          2851.53125,
          2851.53125,
          2851.531005859375,
          2851.53125,
          2851.53125,
          2851.53125,
          2851.531005859375,
          2851.53125,
          2851.53125,
          2851.53125,
          2851.53125,
          2851.53125,
          2851.53125,
          2851.53125,
          2851.53125,
          2851.53125,
          2851.53125,
          2851.53125,
          2851.53125,
          2851.53125,
          2851.53125,
          2851.53125,
          2851.53125,
          2851.53125,
          2851.53125,
          2851.53125,
          2851.53125,
          2851.53125,
          2851.53125,
          2851.53125,
          2851.53125,
          2851.53125,
          2851.53125,
          2851.53125,
          2851.53125,
          2851.53125,
          2851.53125,
          2851.53125,
          2851.53125,
          2851.53125,
          2851.53125,
          2851.53125,
          2851.531005859375,
          2851.53125,
          2851.53125,
          2851.53125,
          2851.53125,
          2851.53125,
          2851.53125,
          2851.53125,
          2851.53125,
          2851.53125,
          2851.53125,
          2851.53125,
          2851.53125,
          2851.53125,
          2851.53125,
          2851.53125,
          2851.53125,
          2851.53125,
          2851.53125,
          2851.53125,
          2851.53125,
          2851.53125,
          2851.53125,
          2851.53125,
          2851.53125,
          2851.53125,
          2851.53125,
          2851.531005859375,
          2851.53125,
          2851.53125,
          2851.53125,
          2851.53125,
          2851.53125,
          2851.53125,
          2851.53125,
          2851.53125,
          2851.53125,
          2851.53125,
          2851.53125,
          2851.53125,
          2851.53125,
          2851.53125,
          2851.53125,
          2851.53125,
          2851.53125,
          2851.53125,
          2851.53125,
          2851.531005859375,
          2851.53125,
          2851.53125,
          2851.53125,
          2851.53125,
          2851.53125,
          2851.53125,
          2851.53125,
          2851.53125,
          2851.53125,
          2851.53125,
          2851.53125,
          2851.53125,
          2851.53125,
          2851.53125,
          2851.53125,
          2851.53125,
          2851.53125,
          2851.53125,
          2851.53125,
          2851.53125,
          2851.53125,
          2851.53125,
          2851.53125,
          2851.53125,
          2851.53125,
          2851.53125,
          2851.53125,
          2851.53125,
          2851.53125,
          2851.53125,
          2851.53125,
          2851.53125,
          2851.53125,
          2851.53125,
          2851.53125,
          2851.53125,
          2851.53125,
          2851.53125,
          2851.53125,
          2851.531005859375,
          2851.53125,
          2851.53125,
          2851.53125,
          2851.53125,
          2851.53125,
          2851.53125,
          2851.531005859375,
          2851.53125,
          2851.53125,
          2851.53125,
          2851.53125,
          2851.53125,
          2851.53125,
          2851.53125,
          2851.53125,
          2851.53125,
          2851.53125,
          2851.53125,
          2851.53125,
          2851.53125,
          2851.53125,
          2851.53125,
          2851.53125,
          2851.53125,
          2851.53125,
          2851.53125,
          2851.53125,
          2851.53125,
          2851.53125,
          2851.53125,
          2851.53125,
          2851.53125,
          2851.53125,
          2851.53125,
          2851.53125,
          2851.53125,
          2851.53125,
          2851.53125,
          2851.53125,
          2851.53125,
          2851.53125,
          2851.53125,
          2851.53125,
          2851.53125,
          2851.53125,
          2851.53125,
          2851.53125,
          2851.53125,
          2851.53125,
          2851.53125,
          2851.53125,
          2851.53125,
          2851.53125,
          2851.53125,
          2851.53125,
          2851.53125,
          2851.53125,
          2851.531005859375,
          2851.531005859375,
          2851.53125
         ],
         "yaxis": "y"
        }
       ],
       "layout": {
        "legend": {
         "title": {
          "text": "variable"
         },
         "tracegroupgap": 0
        },
        "margin": {
         "t": 60
        },
        "template": {
         "data": {
          "bar": [
           {
            "error_x": {
             "color": "#2a3f5f"
            },
            "error_y": {
             "color": "#2a3f5f"
            },
            "marker": {
             "line": {
              "color": "#E5ECF6",
              "width": 0.5
             },
             "pattern": {
              "fillmode": "overlay",
              "size": 10,
              "solidity": 0.2
             }
            },
            "type": "bar"
           }
          ],
          "barpolar": [
           {
            "marker": {
             "line": {
              "color": "#E5ECF6",
              "width": 0.5
             },
             "pattern": {
              "fillmode": "overlay",
              "size": 10,
              "solidity": 0.2
             }
            },
            "type": "barpolar"
           }
          ],
          "carpet": [
           {
            "aaxis": {
             "endlinecolor": "#2a3f5f",
             "gridcolor": "white",
             "linecolor": "white",
             "minorgridcolor": "white",
             "startlinecolor": "#2a3f5f"
            },
            "baxis": {
             "endlinecolor": "#2a3f5f",
             "gridcolor": "white",
             "linecolor": "white",
             "minorgridcolor": "white",
             "startlinecolor": "#2a3f5f"
            },
            "type": "carpet"
           }
          ],
          "choropleth": [
           {
            "colorbar": {
             "outlinewidth": 0,
             "ticks": ""
            },
            "type": "choropleth"
           }
          ],
          "contour": [
           {
            "colorbar": {
             "outlinewidth": 0,
             "ticks": ""
            },
            "colorscale": [
             [
              0,
              "#0d0887"
             ],
             [
              0.1111111111111111,
              "#46039f"
             ],
             [
              0.2222222222222222,
              "#7201a8"
             ],
             [
              0.3333333333333333,
              "#9c179e"
             ],
             [
              0.4444444444444444,
              "#bd3786"
             ],
             [
              0.5555555555555556,
              "#d8576b"
             ],
             [
              0.6666666666666666,
              "#ed7953"
             ],
             [
              0.7777777777777778,
              "#fb9f3a"
             ],
             [
              0.8888888888888888,
              "#fdca26"
             ],
             [
              1,
              "#f0f921"
             ]
            ],
            "type": "contour"
           }
          ],
          "contourcarpet": [
           {
            "colorbar": {
             "outlinewidth": 0,
             "ticks": ""
            },
            "type": "contourcarpet"
           }
          ],
          "heatmap": [
           {
            "colorbar": {
             "outlinewidth": 0,
             "ticks": ""
            },
            "colorscale": [
             [
              0,
              "#0d0887"
             ],
             [
              0.1111111111111111,
              "#46039f"
             ],
             [
              0.2222222222222222,
              "#7201a8"
             ],
             [
              0.3333333333333333,
              "#9c179e"
             ],
             [
              0.4444444444444444,
              "#bd3786"
             ],
             [
              0.5555555555555556,
              "#d8576b"
             ],
             [
              0.6666666666666666,
              "#ed7953"
             ],
             [
              0.7777777777777778,
              "#fb9f3a"
             ],
             [
              0.8888888888888888,
              "#fdca26"
             ],
             [
              1,
              "#f0f921"
             ]
            ],
            "type": "heatmap"
           }
          ],
          "heatmapgl": [
           {
            "colorbar": {
             "outlinewidth": 0,
             "ticks": ""
            },
            "colorscale": [
             [
              0,
              "#0d0887"
             ],
             [
              0.1111111111111111,
              "#46039f"
             ],
             [
              0.2222222222222222,
              "#7201a8"
             ],
             [
              0.3333333333333333,
              "#9c179e"
             ],
             [
              0.4444444444444444,
              "#bd3786"
             ],
             [
              0.5555555555555556,
              "#d8576b"
             ],
             [
              0.6666666666666666,
              "#ed7953"
             ],
             [
              0.7777777777777778,
              "#fb9f3a"
             ],
             [
              0.8888888888888888,
              "#fdca26"
             ],
             [
              1,
              "#f0f921"
             ]
            ],
            "type": "heatmapgl"
           }
          ],
          "histogram": [
           {
            "marker": {
             "pattern": {
              "fillmode": "overlay",
              "size": 10,
              "solidity": 0.2
             }
            },
            "type": "histogram"
           }
          ],
          "histogram2d": [
           {
            "colorbar": {
             "outlinewidth": 0,
             "ticks": ""
            },
            "colorscale": [
             [
              0,
              "#0d0887"
             ],
             [
              0.1111111111111111,
              "#46039f"
             ],
             [
              0.2222222222222222,
              "#7201a8"
             ],
             [
              0.3333333333333333,
              "#9c179e"
             ],
             [
              0.4444444444444444,
              "#bd3786"
             ],
             [
              0.5555555555555556,
              "#d8576b"
             ],
             [
              0.6666666666666666,
              "#ed7953"
             ],
             [
              0.7777777777777778,
              "#fb9f3a"
             ],
             [
              0.8888888888888888,
              "#fdca26"
             ],
             [
              1,
              "#f0f921"
             ]
            ],
            "type": "histogram2d"
           }
          ],
          "histogram2dcontour": [
           {
            "colorbar": {
             "outlinewidth": 0,
             "ticks": ""
            },
            "colorscale": [
             [
              0,
              "#0d0887"
             ],
             [
              0.1111111111111111,
              "#46039f"
             ],
             [
              0.2222222222222222,
              "#7201a8"
             ],
             [
              0.3333333333333333,
              "#9c179e"
             ],
             [
              0.4444444444444444,
              "#bd3786"
             ],
             [
              0.5555555555555556,
              "#d8576b"
             ],
             [
              0.6666666666666666,
              "#ed7953"
             ],
             [
              0.7777777777777778,
              "#fb9f3a"
             ],
             [
              0.8888888888888888,
              "#fdca26"
             ],
             [
              1,
              "#f0f921"
             ]
            ],
            "type": "histogram2dcontour"
           }
          ],
          "mesh3d": [
           {
            "colorbar": {
             "outlinewidth": 0,
             "ticks": ""
            },
            "type": "mesh3d"
           }
          ],
          "parcoords": [
           {
            "line": {
             "colorbar": {
              "outlinewidth": 0,
              "ticks": ""
             }
            },
            "type": "parcoords"
           }
          ],
          "pie": [
           {
            "automargin": true,
            "type": "pie"
           }
          ],
          "scatter": [
           {
            "marker": {
             "colorbar": {
              "outlinewidth": 0,
              "ticks": ""
             }
            },
            "type": "scatter"
           }
          ],
          "scatter3d": [
           {
            "line": {
             "colorbar": {
              "outlinewidth": 0,
              "ticks": ""
             }
            },
            "marker": {
             "colorbar": {
              "outlinewidth": 0,
              "ticks": ""
             }
            },
            "type": "scatter3d"
           }
          ],
          "scattercarpet": [
           {
            "marker": {
             "colorbar": {
              "outlinewidth": 0,
              "ticks": ""
             }
            },
            "type": "scattercarpet"
           }
          ],
          "scattergeo": [
           {
            "marker": {
             "colorbar": {
              "outlinewidth": 0,
              "ticks": ""
             }
            },
            "type": "scattergeo"
           }
          ],
          "scattergl": [
           {
            "marker": {
             "colorbar": {
              "outlinewidth": 0,
              "ticks": ""
             }
            },
            "type": "scattergl"
           }
          ],
          "scattermapbox": [
           {
            "marker": {
             "colorbar": {
              "outlinewidth": 0,
              "ticks": ""
             }
            },
            "type": "scattermapbox"
           }
          ],
          "scatterpolar": [
           {
            "marker": {
             "colorbar": {
              "outlinewidth": 0,
              "ticks": ""
             }
            },
            "type": "scatterpolar"
           }
          ],
          "scatterpolargl": [
           {
            "marker": {
             "colorbar": {
              "outlinewidth": 0,
              "ticks": ""
             }
            },
            "type": "scatterpolargl"
           }
          ],
          "scatterternary": [
           {
            "marker": {
             "colorbar": {
              "outlinewidth": 0,
              "ticks": ""
             }
            },
            "type": "scatterternary"
           }
          ],
          "surface": [
           {
            "colorbar": {
             "outlinewidth": 0,
             "ticks": ""
            },
            "colorscale": [
             [
              0,
              "#0d0887"
             ],
             [
              0.1111111111111111,
              "#46039f"
             ],
             [
              0.2222222222222222,
              "#7201a8"
             ],
             [
              0.3333333333333333,
              "#9c179e"
             ],
             [
              0.4444444444444444,
              "#bd3786"
             ],
             [
              0.5555555555555556,
              "#d8576b"
             ],
             [
              0.6666666666666666,
              "#ed7953"
             ],
             [
              0.7777777777777778,
              "#fb9f3a"
             ],
             [
              0.8888888888888888,
              "#fdca26"
             ],
             [
              1,
              "#f0f921"
             ]
            ],
            "type": "surface"
           }
          ],
          "table": [
           {
            "cells": {
             "fill": {
              "color": "#EBF0F8"
             },
             "line": {
              "color": "white"
             }
            },
            "header": {
             "fill": {
              "color": "#C8D4E3"
             },
             "line": {
              "color": "white"
             }
            },
            "type": "table"
           }
          ]
         },
         "layout": {
          "annotationdefaults": {
           "arrowcolor": "#2a3f5f",
           "arrowhead": 0,
           "arrowwidth": 1
          },
          "autotypenumbers": "strict",
          "coloraxis": {
           "colorbar": {
            "outlinewidth": 0,
            "ticks": ""
           }
          },
          "colorscale": {
           "diverging": [
            [
             0,
             "#8e0152"
            ],
            [
             0.1,
             "#c51b7d"
            ],
            [
             0.2,
             "#de77ae"
            ],
            [
             0.3,
             "#f1b6da"
            ],
            [
             0.4,
             "#fde0ef"
            ],
            [
             0.5,
             "#f7f7f7"
            ],
            [
             0.6,
             "#e6f5d0"
            ],
            [
             0.7,
             "#b8e186"
            ],
            [
             0.8,
             "#7fbc41"
            ],
            [
             0.9,
             "#4d9221"
            ],
            [
             1,
             "#276419"
            ]
           ],
           "sequential": [
            [
             0,
             "#0d0887"
            ],
            [
             0.1111111111111111,
             "#46039f"
            ],
            [
             0.2222222222222222,
             "#7201a8"
            ],
            [
             0.3333333333333333,
             "#9c179e"
            ],
            [
             0.4444444444444444,
             "#bd3786"
            ],
            [
             0.5555555555555556,
             "#d8576b"
            ],
            [
             0.6666666666666666,
             "#ed7953"
            ],
            [
             0.7777777777777778,
             "#fb9f3a"
            ],
            [
             0.8888888888888888,
             "#fdca26"
            ],
            [
             1,
             "#f0f921"
            ]
           ],
           "sequentialminus": [
            [
             0,
             "#0d0887"
            ],
            [
             0.1111111111111111,
             "#46039f"
            ],
            [
             0.2222222222222222,
             "#7201a8"
            ],
            [
             0.3333333333333333,
             "#9c179e"
            ],
            [
             0.4444444444444444,
             "#bd3786"
            ],
            [
             0.5555555555555556,
             "#d8576b"
            ],
            [
             0.6666666666666666,
             "#ed7953"
            ],
            [
             0.7777777777777778,
             "#fb9f3a"
            ],
            [
             0.8888888888888888,
             "#fdca26"
            ],
            [
             1,
             "#f0f921"
            ]
           ]
          },
          "colorway": [
           "#636efa",
           "#EF553B",
           "#00cc96",
           "#ab63fa",
           "#FFA15A",
           "#19d3f3",
           "#FF6692",
           "#B6E880",
           "#FF97FF",
           "#FECB52"
          ],
          "font": {
           "color": "#2a3f5f"
          },
          "geo": {
           "bgcolor": "white",
           "lakecolor": "white",
           "landcolor": "#E5ECF6",
           "showlakes": true,
           "showland": true,
           "subunitcolor": "white"
          },
          "hoverlabel": {
           "align": "left"
          },
          "hovermode": "closest",
          "mapbox": {
           "style": "light"
          },
          "paper_bgcolor": "white",
          "plot_bgcolor": "#E5ECF6",
          "polar": {
           "angularaxis": {
            "gridcolor": "white",
            "linecolor": "white",
            "ticks": ""
           },
           "bgcolor": "#E5ECF6",
           "radialaxis": {
            "gridcolor": "white",
            "linecolor": "white",
            "ticks": ""
           }
          },
          "scene": {
           "xaxis": {
            "backgroundcolor": "#E5ECF6",
            "gridcolor": "white",
            "gridwidth": 2,
            "linecolor": "white",
            "showbackground": true,
            "ticks": "",
            "zerolinecolor": "white"
           },
           "yaxis": {
            "backgroundcolor": "#E5ECF6",
            "gridcolor": "white",
            "gridwidth": 2,
            "linecolor": "white",
            "showbackground": true,
            "ticks": "",
            "zerolinecolor": "white"
           },
           "zaxis": {
            "backgroundcolor": "#E5ECF6",
            "gridcolor": "white",
            "gridwidth": 2,
            "linecolor": "white",
            "showbackground": true,
            "ticks": "",
            "zerolinecolor": "white"
           }
          },
          "shapedefaults": {
           "line": {
            "color": "#2a3f5f"
           }
          },
          "ternary": {
           "aaxis": {
            "gridcolor": "white",
            "linecolor": "white",
            "ticks": ""
           },
           "baxis": {
            "gridcolor": "white",
            "linecolor": "white",
            "ticks": ""
           },
           "bgcolor": "#E5ECF6",
           "caxis": {
            "gridcolor": "white",
            "linecolor": "white",
            "ticks": ""
           }
          },
          "title": {
           "x": 0.05
          },
          "xaxis": {
           "automargin": true,
           "gridcolor": "white",
           "linecolor": "white",
           "ticks": "",
           "title": {
            "standoff": 15
           },
           "zerolinecolor": "white",
           "zerolinewidth": 2
          },
          "yaxis": {
           "automargin": true,
           "gridcolor": "white",
           "linecolor": "white",
           "ticks": "",
           "title": {
            "standoff": 15
           },
           "zerolinecolor": "white",
           "zerolinewidth": 2
          }
         }
        },
        "xaxis": {
         "anchor": "y",
         "domain": [
          0,
          1
         ],
         "title": {
          "text": "index"
         }
        },
        "yaxis": {
         "anchor": "x",
         "domain": [
          0,
          1
         ],
         "title": {
          "text": "value"
         }
        }
       }
      }
     },
     "metadata": {},
     "output_type": "display_data"
    }
   ],
   "source": [
    "import plotly.express as px\n",
    "px.line(test_60)"
   ]
  },
  {
   "cell_type": "code",
   "execution_count": 114,
   "metadata": {},
   "outputs": [],
   "source": []
  },
  {
   "cell_type": "code",
   "execution_count": 60,
   "metadata": {},
   "outputs": [],
   "source": []
  },
  {
   "cell_type": "code",
   "execution_count": 73,
   "metadata": {},
   "outputs": [
    {
     "data": {
      "text/plain": [
       "array([[2238.9783]], dtype=float32)"
      ]
     },
     "execution_count": 73,
     "metadata": {},
     "output_type": "execute_result"
    }
   ],
   "source": []
  }
 ],
 "metadata": {
  "interpreter": {
   "hash": "7d42b417d81c0d6a21cb80fa5301eb1777d3947f95341825a20df2ad36a88fbc"
  },
  "kernelspec": {
   "display_name": "Python 3.9.5 64-bit",
   "language": "python",
   "name": "python3"
  },
  "language_info": {
   "codemirror_mode": {
    "name": "ipython",
    "version": 3
   },
   "file_extension": ".py",
   "mimetype": "text/x-python",
   "name": "python",
   "nbconvert_exporter": "python",
   "pygments_lexer": "ipython3",
   "version": "3.9.5"
  },
  "orig_nbformat": 4
 },
 "nbformat": 4,
 "nbformat_minor": 2
}
